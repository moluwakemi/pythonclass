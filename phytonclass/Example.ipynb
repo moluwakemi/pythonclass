{
 "cells": [
  {
   "cell_type": "code",
   "execution_count": 4,
   "id": "cb3913f3",
   "metadata": {},
   "outputs": [
    {
     "name": "stdout",
     "output_type": "stream",
     "text": [
      "what is your age:25\n",
      "what region do you reside in:North east\n",
      "congratulations you are eligible for the job\n"
     ]
    }
   ],
   "source": [
    "state=[\"abia\",\"enugu\",\"kano\",\"kaduna\"]\n",
    "age=float(input(\"what is your age:\"))\n",
    "region=input(\"what region do you reside in:\")\n",
    "if age >= 23 and region == \"North west\":\n",
    "    print(\"congratulations you are eligible for the job\")    \n",
    "elif age >= 23 and region == \"south east\":\n",
    "    print(\"congratulations you are eligible for the job\")\n",
    "elif age >= 23 and region == \"North east\":\n",
    "    print(\"congratulations you are eligible for the job\")\n",
    "elif age >= 23 and region == \"south west\":\n",
    "    print(\"congratulations you are eligible for the job\")\n",
    "elif age >= 23 and region == \"south south\":\n",
    "    print(\"congratulations you are eligible for the job\")\n",
    "    \n",
    "else:\n",
    "    print(\"sorry you are not eligible for the job.\")\n",
    "      "
   ]
  },
  {
   "cell_type": "code",
   "execution_count": 2,
   "id": "e0597d45",
   "metadata": {},
   "outputs": [
    {
     "name": "stdout",
     "output_type": "stream",
     "text": [
      "['BPF', 'LOG4', 'NV_MAGICCONST', 'RECIP_BPF', 'Random', 'SG_MAGICCONST', 'SystemRandom', 'TWOPI', '_ONE', '_Sequence', '_Set', '__all__', '__builtins__', '__cached__', '__doc__', '__file__', '__loader__', '__name__', '__package__', '__spec__', '_accumulate', '_acos', '_bisect', '_ceil', '_cos', '_e', '_exp', '_floor', '_index', '_inst', '_isfinite', '_log', '_os', '_pi', '_random', '_repeat', '_sha512', '_sin', '_sqrt', '_test', '_test_generator', '_urandom', '_warn', 'betavariate', 'choice', 'choices', 'expovariate', 'gammavariate', 'gauss', 'getrandbits', 'getstate', 'lognormvariate', 'normalvariate', 'paretovariate', 'randbytes', 'randint', 'random', 'randrange', 'sample', 'seed', 'setstate', 'shuffle', 'triangular', 'uniform', 'vonmisesvariate', 'weibullvariate']\n"
     ]
    }
   ],
   "source": [
    "import random\n",
    "print(dir(random))"
   ]
  },
  {
   "cell_type": "code",
   "execution_count": null,
   "id": "1996b6ca",
   "metadata": {},
   "outputs": [],
   "source": [
    "class simulation:\n",
    "    attrl1=\"brand\"\n",
    "    attrl2=\"color\"\n",
    "    attrl3=\"model\"\n",
    "    attrl4=\"year\"\n",
    "    attrl5=\"speed\"\n",
    "    def method_start(self):\n",
    "        brand=input(\"begin simulation of:\")\n",
    "        while brand == self.attrl1:\n",
    "            print(f' The model of the car{attrl3} determine the movement of the car')\n",
    "    def method2_changear(self):\n",
    "        gear=input(\"change gear:\")\n",
    "        while gear == self.attrl5:\n",
    "            print(f\"gear has been changed\")\n",
    "            \n",
    "car = simulation()"
   ]
  },
  {
   "cell_type": "code",
   "execution_count": 1,
   "id": "5ee59f27",
   "metadata": {},
   "outputs": [],
   "source": [
    "class usage:\n",
    "    attrl=\"brand\"\n",
    "    attrl2=\"color\"\n",
    "    attrl3=\"model\"\n",
    "    attrl4=\"lastlong\"\n",
    "    def method_start(self):\n",
    "        brand=input(\"start booting:\")\n",
    "        while brand ==self.attrl:\n",
    "            print(f'The model of the phone{attrl3}determine the activeness of the phone')\n",
    "    def method2_lastlong(self):\n",
    "        lastlong=input(\"use to browse:\")\n",
    "        while lastlong== self.attrl4:\n",
    "            print(f\"Browsing\")\n",
    "            \n",
    "phone = usage()"
   ]
  },
  {
   "cell_type": "code",
   "execution_count": 3,
   "id": "95861c92",
   "metadata": {},
   "outputs": [
    {
     "name": "stdout",
     "output_type": "stream",
     "text": [
      "start booting:High Phone 13\n"
     ]
    }
   ],
   "source": [
    "phone.method_start()"
   ]
  },
  {
   "cell_type": "code",
   "execution_count": 4,
   "id": "4af66d9f",
   "metadata": {},
   "outputs": [
    {
     "name": "stdout",
     "output_type": "stream",
     "text": [
      "use to browse:daily\n"
     ]
    }
   ],
   "source": [
    "phone.method2_lastlong()"
   ]
  },
  {
   "cell_type": "code",
   "execution_count": null,
   "id": "0a790c6f",
   "metadata": {},
   "outputs": [],
   "source": []
  }
 ],
 "metadata": {
  "kernelspec": {
   "display_name": "Python 3 (ipykernel)",
   "language": "python",
   "name": "python3"
  },
  "language_info": {
   "codemirror_mode": {
    "name": "ipython",
    "version": 3
   },
   "file_extension": ".py",
   "mimetype": "text/x-python",
   "name": "python",
   "nbconvert_exporter": "python",
   "pygments_lexer": "ipython3",
   "version": "3.11.5"
  }
 },
 "nbformat": 4,
 "nbformat_minor": 5
}
