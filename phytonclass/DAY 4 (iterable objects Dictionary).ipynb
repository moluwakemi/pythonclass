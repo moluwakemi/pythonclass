{
 "cells": [
  {
   "cell_type": "code",
   "execution_count": null,
   "id": "2fa72d71",
   "metadata": {},
   "outputs": [],
   "source": [
    "## iterable objects (Advance datatype)\n",
    "## TURPLE\n",
    "## LIST\n",
    "## DICTIONARY"
   ]
  },
  {
   "cell_type": "markdown",
   "id": "5e5ccef3",
   "metadata": {},
   "source": [
    "## TURPLE\n",
    "## TURPLE IS UNCHANGEABLE\n",
    "## Turple use index location\n",
    "## turple use the bracket ()\n",
    "## turple uses different datatypes"
   ]
  },
  {
   "cell_type": "code",
   "execution_count": 1,
   "id": "03a8248c",
   "metadata": {},
   "outputs": [
    {
     "name": "stdout",
     "output_type": "stream",
     "text": [
      "10\n",
      "<class 'tuple'>\n"
     ]
    }
   ],
   "source": [
    "numbers=(20,55,90,100,24,24,25,30, \"femi\",45.0)\n",
    "print(len(numbers))\n",
    "print(type(numbers))"
   ]
  },
  {
   "cell_type": "code",
   "execution_count": 2,
   "id": "4391c813",
   "metadata": {},
   "outputs": [
    {
     "name": "stdout",
     "output_type": "stream",
     "text": [
      "100\n"
     ]
    }
   ],
   "source": [
    "## accesing an element\n",
    "print(numbers[3])"
   ]
  },
  {
   "cell_type": "code",
   "execution_count": 3,
   "id": "c7db7dd1",
   "metadata": {},
   "outputs": [
    {
     "name": "stdout",
     "output_type": "stream",
     "text": [
      "(20, 55, 90, 100, 24, 24, 25, 30)\n",
      "(20, 55, 90, 100, 24, 24, 25, 30, 'femi')\n"
     ]
    }
   ],
   "source": [
    "## accesing an element using range forward movement\n",
    "print(numbers[0:8])\n",
    "print(numbers[0:9])"
   ]
  },
  {
   "cell_type": "code",
   "execution_count": 5,
   "id": "d9e24ab8",
   "metadata": {},
   "outputs": [
    {
     "name": "stdout",
     "output_type": "stream",
     "text": [
      "(24, 24, 25, 30, 'femi')\n"
     ]
    }
   ],
   "source": [
    "print(numbers[4:-1]) ##forward to backward"
   ]
  },
  {
   "cell_type": "code",
   "execution_count": 6,
   "id": "01f09655",
   "metadata": {},
   "outputs": [
    {
     "name": "stdout",
     "output_type": "stream",
     "text": [
      "(45.0, 'femi', 30, 25, 24, 24, 100, 90, 55, 20)\n"
     ]
    }
   ],
   "source": [
    "print(numbers[::-1])## backward range"
   ]
  },
  {
   "cell_type": "markdown",
   "id": "084beea6",
   "metadata": {},
   "source": [
    "## LIST\n",
    "## LIST IS CHANGEABLE\n",
    "## LIST use index location\n",
    "## LIST use the square bracket []\n",
    "## LIST uses different datatypes"
   ]
  },
  {
   "cell_type": "code",
   "execution_count": 8,
   "id": "4484429d",
   "metadata": {},
   "outputs": [
    {
     "name": "stdout",
     "output_type": "stream",
     "text": [
      "5\n",
      "<class 'list'>\n"
     ]
    }
   ],
   "source": [
    "fruits=[\"cherry\",\"mango\",\"orange\",\"pineaple\",\"watermelon\"]\n",
    "print(len(fruits))\n",
    "print(type(fruits))"
   ]
  },
  {
   "cell_type": "code",
   "execution_count": 9,
   "id": "57e5d789",
   "metadata": {},
   "outputs": [
    {
     "name": "stdout",
     "output_type": "stream",
     "text": [
      "orange\n"
     ]
    }
   ],
   "source": [
    "## accesing in list\n",
    "print(fruits[2])"
   ]
  },
  {
   "cell_type": "code",
   "execution_count": 10,
   "id": "5d1a2364",
   "metadata": {},
   "outputs": [
    {
     "name": "stdout",
     "output_type": "stream",
     "text": [
      "['cherry', 'mango', 'orange', 'pineaple', 'watermelon', 'pear']\n"
     ]
    }
   ],
   "source": [
    "## adding a element into a list.\n",
    "fruits.append(\"pear\")\n",
    "print(fruits)"
   ]
  },
  {
   "cell_type": "code",
   "execution_count": 11,
   "id": "1392740f",
   "metadata": {},
   "outputs": [
    {
     "name": "stdout",
     "output_type": "stream",
     "text": [
      "['cherry', 'orange', 'pineaple', 'watermelon', 'pear']\n"
     ]
    }
   ],
   "source": [
    "## removing a element from a list.\n",
    "fruits.remove(\"mango\")\n",
    "print(fruits)"
   ]
  },
  {
   "cell_type": "code",
   "execution_count": 12,
   "id": "703cef8e",
   "metadata": {},
   "outputs": [
    {
     "name": "stdout",
     "output_type": "stream",
     "text": [
      "['cherry', 'orange', 'pineaple', 'watermelon', 'pear', 'coconut', 'mango', 'gardenegg', 'pawpaw']\n"
     ]
    }
   ],
   "source": [
    "## adding a list to an existing list\n",
    "fruits.extend([\"coconut\",\"mango\",\"gardenegg\",\"pawpaw\"])\n",
    "print(fruits)"
   ]
  },
  {
   "cell_type": "code",
   "execution_count": 13,
   "id": "2d95b69f",
   "metadata": {},
   "outputs": [
    {
     "name": "stdout",
     "output_type": "stream",
     "text": [
      "['cherry', 'coconut', 'gardenegg', 'mango', 'orange', 'pawpaw', 'pear', 'pineaple', 'watermelon']\n"
     ]
    }
   ],
   "source": [
    "## sorting arranges the list in alphabetical order.\n",
    "fruits.sort()\n",
    "print(fruits)"
   ]
  },
  {
   "cell_type": "code",
   "execution_count": 14,
   "id": "96974b50",
   "metadata": {},
   "outputs": [
    {
     "name": "stdout",
     "output_type": "stream",
     "text": [
      "['cherry', 'coconut', 'gardenegg', 'mango', 'orange', 'pawpaw', 'pear', 'pineaple', 'watermelon']\n"
     ]
    }
   ],
   "source": [
    "## copy\n",
    "item=fruits.copy()\n",
    "print(fruits)"
   ]
  },
  {
   "cell_type": "code",
   "execution_count": 15,
   "id": "9583f29e",
   "metadata": {},
   "outputs": [
    {
     "name": "stdout",
     "output_type": "stream",
     "text": [
      "['cherry', 'coconut', 'gardenegg', 'mango', 'orange', 'pawpaw', 'pear', 'pineaple', 'watermelon']\n"
     ]
    }
   ],
   "source": [
    "print(item)"
   ]
  },
  {
   "cell_type": "code",
   "execution_count": 16,
   "id": "cb6ca13d",
   "metadata": {},
   "outputs": [
    {
     "ename": "NameError",
     "evalue": "name 'item' is not defined",
     "output_type": "error",
     "traceback": [
      "\u001b[1;31m---------------------------------------------------------------------------\u001b[0m",
      "\u001b[1;31mNameError\u001b[0m                                 Traceback (most recent call last)",
      "Input \u001b[1;32mIn [16]\u001b[0m, in \u001b[0;36m<cell line: 2>\u001b[1;34m()\u001b[0m\n\u001b[0;32m      1\u001b[0m \u001b[38;5;28;01mdel\u001b[39;00m item \u001b[38;5;66;03m## to delete a list.\u001b[39;00m\n\u001b[1;32m----> 2\u001b[0m \u001b[38;5;28mprint\u001b[39m(\u001b[43mitem\u001b[49m)\n",
      "\u001b[1;31mNameError\u001b[0m: name 'item' is not defined"
     ]
    }
   ],
   "source": [
    "del item ## to delete a list.\n",
    "print(item)"
   ]
  },
  {
   "cell_type": "code",
   "execution_count": 17,
   "id": "0e64db42",
   "metadata": {},
   "outputs": [
    {
     "name": "stdout",
     "output_type": "stream",
     "text": [
      "['cherry', 'coconut', 'gardenegg', 'mango', 'orange', 'pawpaw', 'pear', 'pineaple', 'watermelon']\n"
     ]
    }
   ],
   "source": [
    "print(fruits)"
   ]
  },
  {
   "cell_type": "markdown",
   "id": "b812ec90",
   "metadata": {},
   "source": [
    "## DICTIONARY\n",
    "## DICTIONARY is changeable\n",
    "## DICTIONARY use key to locate a value\n",
    "## Dictionary use the curly bracket {}\n",
    "## Dictionary uses different datatypes"
   ]
  },
  {
   "cell_type": "code",
   "execution_count": 20,
   "id": "ef26faf9",
   "metadata": {},
   "outputs": [
    {
     "name": "stdout",
     "output_type": "stream",
     "text": [
      "Adekunle\n",
      "married\n",
      "30\n"
     ]
    }
   ],
   "source": [
    "user={\"name\":\"Adekunle\",\n",
    "     \"age\":30,\n",
    "     \"marital status\":\"married\"}\n",
    "print(user[\"name\"])\n",
    "print(user[\"marital status\"])\n",
    "print(user[\"age\"])\n"
   ]
  },
  {
   "cell_type": "code",
   "execution_count": 21,
   "id": "ec7ab7fb",
   "metadata": {},
   "outputs": [
    {
     "name": "stdout",
     "output_type": "stream",
     "text": [
      "{'name': 'Adekunle', 'age': 30, 'marital status': 'married', 'height': 1.97}\n"
     ]
    }
   ],
   "source": [
    "user[\"height\"]=1.97\n",
    "print(user)"
   ]
  },
  {
   "cell_type": "code",
   "execution_count": null,
   "id": "824c933c",
   "metadata": {},
   "outputs": [],
   "source": []
  }
 ],
 "metadata": {
  "kernelspec": {
   "display_name": "Python 3 (ipykernel)",
   "language": "python",
   "name": "python3"
  },
  "language_info": {
   "codemirror_mode": {
    "name": "ipython",
    "version": 3
   },
   "file_extension": ".py",
   "mimetype": "text/x-python",
   "name": "python",
   "nbconvert_exporter": "python",
   "pygments_lexer": "ipython3",
   "version": "3.11.5"
  }
 },
 "nbformat": 4,
 "nbformat_minor": 5
}
