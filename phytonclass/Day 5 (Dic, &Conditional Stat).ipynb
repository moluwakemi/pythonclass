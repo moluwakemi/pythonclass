{
 "cells": [
  {
   "cell_type": "code",
   "execution_count": 1,
   "id": "34cdd103",
   "metadata": {},
   "outputs": [
    {
     "name": "stdout",
     "output_type": "stream",
     "text": [
      "david\n",
      "biology\n"
     ]
    }
   ],
   "source": [
    "student={\n",
    "    \"name\":{\"name1\":\"david\",\"name2\":\"Joy\",\"name3\":\"Musa\"},\n",
    "    \"course\":\"science\",\n",
    "    \"subjects\":{\"subject1\":\"furthermaths\",\"subject2\":\"biology\"}\n",
    "}\n",
    "print(student[\"name\"][\"name1\"])\n",
    "print(student[\"subjects\"][\"subject2\"])"
   ]
  },
  {
   "cell_type": "code",
   "execution_count": 8,
   "id": "077cd10e",
   "metadata": {},
   "outputs": [
    {
     "name": "stdout",
     "output_type": "stream",
     "text": [
      "['__doc__', '__loader__', '__name__', '__package__', '__spec__', 'acos', 'acosh', 'asin', 'asinh', 'atan', 'atan2', 'atanh', 'ceil', 'comb', 'copysign', 'cos', 'cosh', 'degrees', 'dist', 'e', 'erf', 'erfc', 'exp', 'expm1', 'fabs', 'factorial', 'floor', 'fmod', 'frexp', 'fsum', 'gamma', 'gcd', 'hypot', 'inf', 'isclose', 'isfinite', 'isinf', 'isnan', 'isqrt', 'lcm', 'ldexp', 'lgamma', 'log', 'log10', 'log1p', 'log2', 'modf', 'nan', 'nextafter', 'perm', 'pi', 'pow', 'prod', 'radians', 'remainder', 'sin', 'sinh', 'sqrt', 'tan', 'tanh', 'tau', 'trunc', 'ulp']\n"
     ]
    }
   ],
   "source": [
    "## modules\n",
    "import math\n",
    "print(dir(math))"
   ]
  },
  {
   "cell_type": "code",
   "execution_count": 11,
   "id": "a33b39de",
   "metadata": {},
   "outputs": [
    {
     "name": "stdout",
     "output_type": "stream",
     "text": [
      "25\n",
      "5.0\n",
      "0.9912028118634736\n"
     ]
    }
   ],
   "source": [
    "num=25\n",
    "print(math.floor(num))\n",
    "print(math.sqrt(num))\n",
    "print(math.cos(num))"
   ]
  },
  {
   "cell_type": "code",
   "execution_count": 12,
   "id": "1a7d4bd1",
   "metadata": {},
   "outputs": [
    {
     "name": "stdout",
     "output_type": "stream",
     "text": [
      "['Counter', 'Decimal', 'Fraction', 'NormalDist', 'StatisticsError', '__all__', '__builtins__', '__cached__', '__doc__', '__file__', '__loader__', '__name__', '__package__', '__spec__', '_coerce', '_convert', '_exact_ratio', '_fail_neg', '_find_lteq', '_find_rteq', '_isfinite', '_normal_dist_inv_cdf', '_ss', '_sum', 'bisect_left', 'bisect_right', 'erf', 'exp', 'fabs', 'fmean', 'fsum', 'geometric_mean', 'groupby', 'harmonic_mean', 'hypot', 'itemgetter', 'log', 'math', 'mean', 'median', 'median_grouped', 'median_high', 'median_low', 'mode', 'multimode', 'numbers', 'pstdev', 'pvariance', 'quantiles', 'random', 'sqrt', 'stdev', 'tau', 'variance']\n"
     ]
    }
   ],
   "source": [
    "import statistics as stat\n",
    "print(dir(stat))"
   ]
  },
  {
   "cell_type": "code",
   "execution_count": 13,
   "id": "533a90a8",
   "metadata": {},
   "outputs": [
    {
     "name": "stdout",
     "output_type": "stream",
     "text": [
      "9.857142857142858\n",
      "9\n",
      "1\n",
      "7.5813053279887415\n"
     ]
    }
   ],
   "source": [
    "num3=[1,5,7,9,10,12,25]\n",
    "print(stat.mean(num3))\n",
    "print(stat.median(num3))\n",
    "print(stat.mode(num3))\n",
    "print(stat.stdev(num3))"
   ]
  },
  {
   "cell_type": "code",
   "execution_count": 14,
   "id": "e84d4ed2",
   "metadata": {},
   "outputs": [
    {
     "name": "stdout",
     "output_type": "stream",
     "text": [
      "['BPF', 'LOG4', 'NV_MAGICCONST', 'RECIP_BPF', 'Random', 'SG_MAGICCONST', 'SystemRandom', 'TWOPI', '_Sequence', '_Set', '__all__', '__builtins__', '__cached__', '__doc__', '__file__', '__loader__', '__name__', '__package__', '__spec__', '_accumulate', '_acos', '_bisect', '_ceil', '_cos', '_e', '_exp', '_floor', '_inst', '_log', '_os', '_pi', '_random', '_repeat', '_sha512', '_sin', '_sqrt', '_test', '_test_generator', '_urandom', '_warn', 'betavariate', 'choice', 'choices', 'expovariate', 'gammavariate', 'gauss', 'getrandbits', 'getstate', 'lognormvariate', 'normalvariate', 'paretovariate', 'randbytes', 'randint', 'random', 'randrange', 'sample', 'seed', 'setstate', 'shuffle', 'triangular', 'uniform', 'vonmisesvariate', 'weibullvariate']\n"
     ]
    }
   ],
   "source": [
    "import random\n",
    "print(dir(random))"
   ]
  },
  {
   "cell_type": "code",
   "execution_count": 19,
   "id": "cb94c37d",
   "metadata": {},
   "outputs": [
    {
     "name": "stdout",
     "output_type": "stream",
     "text": [
      "45\n",
      "None\n"
     ]
    },
    {
     "data": {
      "text/plain": [
       "16"
      ]
     },
     "execution_count": 19,
     "metadata": {},
     "output_type": "execute_result"
    }
   ],
   "source": [
    "num4=[45,50]\n",
    "print(random.choice(num4))\n",
    "print(random.shuffle(num4))\n",
    "random.randint(14,17)"
   ]
  },
  {
   "cell_type": "code",
   "execution_count": 17,
   "id": "fb906e4a",
   "metadata": {},
   "outputs": [
    {
     "name": "stdout",
     "output_type": "stream",
     "text": [
      "['Formatter', 'Template', '_ChainMap', '__all__', '__builtins__', '__cached__', '__doc__', '__file__', '__loader__', '__name__', '__package__', '__spec__', '_re', '_sentinel_dict', '_string', 'ascii_letters', 'ascii_lowercase', 'ascii_uppercase', 'capwords', 'digits', 'hexdigits', 'octdigits', 'printable', 'punctuation', 'whitespace']\n"
     ]
    }
   ],
   "source": [
    "import string\n",
    "print(dir(string))"
   ]
  },
  {
   "cell_type": "code",
   "execution_count": 18,
   "id": "c262e207",
   "metadata": {},
   "outputs": [
    {
     "data": {
      "text/plain": [
       "'abcdefghijklmnopqrstuvwxyzABCDEFGHIJKLMNOPQRSTUVWXYZ'"
      ]
     },
     "execution_count": 18,
     "metadata": {},
     "output_type": "execute_result"
    }
   ],
   "source": [
    "string.ascii_letters"
   ]
  },
  {
   "cell_type": "code",
   "execution_count": 20,
   "id": "9ab54b08",
   "metadata": {},
   "outputs": [
    {
     "data": {
      "text/plain": [
       "'!\"#$%&\\'()*+,-./:;<=>?@[\\\\]^_`{|}~'"
      ]
     },
     "execution_count": 20,
     "metadata": {},
     "output_type": "execute_result"
    }
   ],
   "source": [
    "string.punctuation"
   ]
  },
  {
   "cell_type": "markdown",
   "id": "f26c410d",
   "metadata": {},
   "source": [
    "## conditional statement"
   ]
  },
  {
   "cell_type": "code",
   "execution_count": 22,
   "id": "1e317d71",
   "metadata": {},
   "outputs": [
    {
     "name": "stdout",
     "output_type": "stream",
     "text": [
      "what is your age19\n",
      "you are eligible to vote\n"
     ]
    }
   ],
   "source": [
    "user1=float(input(\"what is your age\"))\n",
    "if user1>18:\n",
    "    print(\"you are eligible to vote\")\n",
    "else:\n",
    "    print(\"sorry try next time\")"
   ]
  },
  {
   "cell_type": "code",
   "execution_count": 23,
   "id": "79599aed",
   "metadata": {},
   "outputs": [
    {
     "name": "stdout",
     "output_type": "stream",
     "text": [
      "what is your age14\n",
      "sorry try next time\n"
     ]
    }
   ],
   "source": [
    "user1=float(input(\"what is your age\"))\n",
    "if user1>18:\n",
    "    print(\"you are eligible to vote\")\n",
    "elif user1 >=16:\n",
    "    print(\"you are eligible for the primary vote\")\n",
    "else:\n",
    "    print(\"sorry try next time\")"
   ]
  },
  {
   "cell_type": "code",
   "execution_count": 24,
   "id": "564e060e",
   "metadata": {},
   "outputs": [
    {
     "name": "stdout",
     "output_type": "stream",
     "text": [
      "what is your age18\n",
      "you are eligible for the primary vote\n"
     ]
    }
   ],
   "source": [
    "user1=float(input(\"what is your age\"))\n",
    "if user1>18:\n",
    "    print(\"you are eligible to vote\")\n",
    "elif user1 >=16:\n",
    "    print(\"you are eligible for the primary vote\")\n",
    "else:\n",
    "    print(\"sorry try next time\")"
   ]
  },
  {
   "cell_type": "code",
   "execution_count": 25,
   "id": "421e4290",
   "metadata": {},
   "outputs": [],
   "source": [
    "## write a program that use a region and age to determine if a customer has a discount."
   ]
  },
  {
   "cell_type": "code",
   "execution_count": 26,
   "id": "29656b3f",
   "metadata": {},
   "outputs": [
    {
     "name": "stdout",
     "output_type": "stream",
     "text": [
      "what is your age:25\n",
      "what region do you reside in:west west\n",
      "congratulation you have a discount\n"
     ]
    }
   ],
   "source": [
    "age=float(input(\"what is your age:\"))\n",
    "region=input(\"what region do you reside in:\")\n",
    "if age >= 18 and region == \"south south\":\n",
    "    print(\"congratulation you have a discount\")\n",
    "elif age >= 18 and region == \"south east\":\n",
    "    print(\"congratulation you have a discount\")\n",
    "elif age >= 18 and region == \"south west\":\n",
    "    print(\"congratulation you have a discount\")\n",
    "elif age >= 18 and region == \"north west\":\n",
    "    print(\"congratulation you have a discount\")\n",
    "elif age >= 18 and region == \"west west\":\n",
    "    print(\"congratulation you have a discount\")\n",
    "else:\n",
    "    print(\"sorry no discount is allocated to you..try next time.\")"
   ]
  },
  {
   "cell_type": "code",
   "execution_count": 27,
   "id": "e505ef44",
   "metadata": {},
   "outputs": [],
   "source": [
    "## Exercise\n",
    "## write a conditional statement of a specific food served in a restaurant\n",
    "## note\n",
    "## and your condition should not be more than 4."
   ]
  },
  {
   "cell_type": "code",
   "execution_count": 30,
   "id": "7a6d3c46",
   "metadata": {},
   "outputs": [
    {
     "name": "stdout",
     "output_type": "stream",
     "text": [
      "what kind of food do you wantbeans\n",
      "beans is available\n"
     ]
    }
   ],
   "source": [
    "##conditional statement\n",
    "food=input(\"what kind of food do you want\")\n",
    "if food  == \"rice\":\n",
    "    print(\"rice is available\")\n",
    "elif food== \"spaghetti\":\n",
    "    print(\"spaghetti is available\")\n",
    "elif food==\"beans\":\n",
    "    print(\"beans is available\")\n",
    "elif food== \"garri\":\n",
    "    print(\"garri is available\")\n",
    "else:\n",
    "    print(\"sorry no food\")\n"
   ]
  },
  {
   "cell_type": "code",
   "execution_count": null,
   "id": "76ee53d3",
   "metadata": {},
   "outputs": [],
   "source": []
  }
 ],
 "metadata": {
  "kernelspec": {
   "display_name": "Python 3 (ipykernel)",
   "language": "python",
   "name": "python3"
  },
  "language_info": {
   "codemirror_mode": {
    "name": "ipython",
    "version": 3
   },
   "file_extension": ".py",
   "mimetype": "text/x-python",
   "name": "python",
   "nbconvert_exporter": "python",
   "pygments_lexer": "ipython3",
   "version": "3.11.5"
  }
 },
 "nbformat": 4,
 "nbformat_minor": 5
}
