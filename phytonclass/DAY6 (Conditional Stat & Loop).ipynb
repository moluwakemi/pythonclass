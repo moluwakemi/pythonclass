{
 "cells": [
  {
   "cell_type": "code",
   "execution_count": 4,
   "id": "21f3eebd",
   "metadata": {},
   "outputs": [
    {
     "name": "stdout",
     "output_type": "stream",
     "text": [
      "physic score:56\n",
      "maths score:45\n",
      "chemistry score:67\n",
      "Biology score:45\n",
      "Economics score:56\n",
      "English score:67\n",
      "Your avg score is 56.0 and score point is C\n"
     ]
    }
   ],
   "source": [
    "## CONDITIONAL STATEMENTS\n",
    "##  PROGRAM SOFTWARE THAT USES STUDENT SUBJECTS TO LOOK FOR THE AVERAGE OF THE SCORE AND GIVE A SCORE POINT\n",
    "grades1=float(input(\"physic score:\"))\n",
    "grades2=float(input(\"maths score:\"))\n",
    "grades3=float(input(\"chemistry score:\"))\n",
    "grades4=float(input(\"Biology score:\"))\n",
    "grades5=float(input(\"Economics score:\"))\n",
    "grades6=float(input(\"English score:\"))\n",
    "import statistics as stat\n",
    "avg= round(stat.mean([grades1,grades2,grades3,grades4,grades5,grades6]),2)\n",
    "if avg >= 70 and avg <= 100:\n",
    "    print(f\"Your avg score is {avg} and score point is A\")\n",
    "elif avg >= 60 and avg <= 69.99:\n",
    "    print(f\"Your avg score is {avg} and score point is B\")\n",
    "elif avg >= 50 and avg <= 59.99:\n",
    "    print(f\"Your avg score is {avg} and score point is C\")\n",
    "elif avg >= 40 and avg <= 49.99:\n",
    "    print(f\"Your avg score is {avg} and score point is D\")\n",
    "elif avg >= 30 and avg <= 39.99:\n",
    "    print(f\"Your avg score is {avg} and score point is E\")\n",
    "else:\n",
    "    print(f\"Sorry you failed badly\")"
   ]
  },
  {
   "cell_type": "code",
   "execution_count": null,
   "id": "bab32a82",
   "metadata": {},
   "outputs": [],
   "source": [
    "## In the given code, a person's eligibility for a job offer is determined based on their age and region. If the person is eligible, a random state from the provided list is chosen. \n",
    "##Identify a potential issue in the code and propose a modification to address it."
   ]
  },
  {
   "cell_type": "markdown",
   "id": "69e29a72",
   "metadata": {},
   "source": [
    "## LOOPS"
   ]
  },
  {
   "cell_type": "code",
   "execution_count": null,
   "id": "76ff36f0",
   "metadata": {},
   "outputs": [],
   "source": [
    "## LOOPS IS THE ACT OF A PROGRAMMER TO REPEAT A PROGRAM OVER AGAIN USING LOOP\n",
    "## TWO TYPES OF LOOP\n",
    "## FOR LOOP\n",
    "## WHILE LOOP"
   ]
  },
  {
   "cell_type": "code",
   "execution_count": 8,
   "id": "e2de9a35",
   "metadata": {},
   "outputs": [
    {
     "name": "stdout",
     "output_type": "stream",
     "text": [
      "ppp\n",
      "yyy\n",
      "ttt\n",
      "hhh\n",
      "ooo\n",
      "nnn\n"
     ]
    }
   ],
   "source": [
    "## FOR LOOP(using a variable.)\n",
    "word=\"python\"\n",
    "for h in word:\n",
    "    print(h * 3)"
   ]
  },
  {
   "cell_type": "code",
   "execution_count": 14,
   "id": "e2569a74",
   "metadata": {},
   "outputs": [
    {
     "name": "stdout",
     "output_type": "stream",
     "text": [
      "Enter the character:n\n",
      "nnn\n"
     ]
    }
   ],
   "source": [
    "## for loop(using conditional statement)\n",
    "word=\"python\"\n",
    "user=input(\"Enter the character:\")\n",
    "for char in word:\n",
    "    if user == char:\n",
    "        print(char * 3 )       "
   ]
  },
  {
   "cell_type": "code",
   "execution_count": 19,
   "id": "261707e8",
   "metadata": {},
   "outputs": [
    {
     "name": "stdout",
     "output_type": "stream",
     "text": [
      "Enter the character:p\n",
      "character found\n"
     ]
    }
   ],
   "source": [
    "word=\"python\"\n",
    "user=input(\"Enter the character:\")\n",
    "for char in word:\n",
    "    if user == char:\n",
    "        print(\"character found\" )\n",
    "        break\n",
    "    else:\n",
    "        print(\"character not found..\")"
   ]
  },
  {
   "cell_type": "code",
   "execution_count": 24,
   "id": "59db5c1a",
   "metadata": {},
   "outputs": [
    {
     "name": "stdout",
     "output_type": "stream",
     "text": [
      "what is the square number you looking for:0\n"
     ]
    }
   ],
   "source": [
    "## WHILE LOOP\n",
    "counter=0\n",
    "num=int(input(\"what is the square number you looking for:\"))\n",
    "import math\n",
    "while num != 0:\n",
    "        print(f\"The square root of {num} is {math.sqrt(num)}\")\n",
    "        num= int(input('enter your number :'))\n",
    "        counter += 1"
   ]
  },
  {
   "cell_type": "code",
   "execution_count": 28,
   "id": "58704b7c",
   "metadata": {},
   "outputs": [
    {
     "name": "stdout",
     "output_type": "stream",
     "text": [
      "what is the number:2\n",
      "2 * 1 = 2\n",
      "2 * 2 = 4\n",
      "2 * 3 = 6\n",
      "2 * 4 = 8\n",
      "2 * 5 = 10\n",
      "2 * 6 = 12\n",
      "2 * 7 = 14\n",
      "2 * 8 = 16\n",
      "2 * 9 = 18\n",
      "2 * 10 = 20\n",
      "2 * 11 = 22\n",
      "2 * 12 = 24\n"
     ]
    }
   ],
   "source": [
    "## USING WHILE LOOPS FOR MULTIPLICATION TABLE\n",
    "counter=1\n",
    "num=int(input(\"what is the number:\"))\n",
    "while counter <= 12:\n",
    "    print(f'{num} * {counter} = {num * counter}')\n",
    "    counter += 1\n",
    "    "
   ]
  },
  {
   "cell_type": "code",
   "execution_count": 30,
   "id": "667b215b",
   "metadata": {},
   "outputs": [
    {
     "name": "stdout",
     "output_type": "stream",
     "text": [
      "10\n",
      "9\n",
      "8\n",
      "7\n",
      "6\n",
      "5\n",
      "4\n",
      "3\n",
      "2\n",
      "1\n",
      "Happy New year>>>\n"
     ]
    }
   ],
   "source": [
    "## COUNT DOWN USING WHILE LOOP\n",
    "counter=10\n",
    "while counter > 0:\n",
    "    print(counter)\n",
    "    counter -= 1\n",
    "print(\"Happy New year>>>\")    "
   ]
  },
  {
   "cell_type": "code",
   "execution_count": null,
   "id": "0044d1d5",
   "metadata": {},
   "outputs": [],
   "source": [
    "# EXERCISE\n",
    "# RANDOMLY GENERATE A NUMBER AND WRITE A PROGRAM TO ASK A USER TO GUESS UNTIL IT IS CORRECT \n",
    "## .USE A CONDITION TO GIVE HINT"
   ]
  }
 ],
 "metadata": {
  "kernelspec": {
   "display_name": "Python 3 (ipykernel)",
   "language": "python",
   "name": "python3"
  },
  "language_info": {
   "codemirror_mode": {
    "name": "ipython",
    "version": 3
   },
   "file_extension": ".py",
   "mimetype": "text/x-python",
   "name": "python",
   "nbconvert_exporter": "python",
   "pygments_lexer": "ipython3",
   "version": "3.11.5"
  }
 },
 "nbformat": 4,
 "nbformat_minor": 5
}
