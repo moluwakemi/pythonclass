{
 "cells": [
  {
   "cell_type": "code",
   "execution_count": 1,
   "id": "6e8c6a3b",
   "metadata": {},
   "outputs": [],
   "source": [
    "import pymysql"
   ]
  },
  {
   "cell_type": "code",
   "execution_count": 19,
   "id": "e1fdb744",
   "metadata": {},
   "outputs": [
    {
     "ename": "SyntaxError",
     "evalue": "invalid syntax (3930276051.py, line 44)",
     "output_type": "error",
     "traceback": [
      "\u001b[1;36m  Cell \u001b[1;32mIn[19], line 44\u001b[1;36m\u001b[0m\n\u001b[1;33m    def\u001b[0m\n\u001b[1;37m        ^\u001b[0m\n\u001b[1;31mSyntaxError\u001b[0m\u001b[1;31m:\u001b[0m invalid syntax\n"
     ]
    }
   ],
   "source": [
    " class Bank:\n",
    "    def __init__(self,host,user,port,password,database):\n",
    "        sel.conn = pymysql.connect(\n",
    "        host=host,\n",
    "        user=user,\n",
    "        port=port,\n",
    "        password=password,\n",
    "        database=database\n",
    "        )\n",
    "        self.cursor = self.conn.cursor()\n",
    "        self.create_table()\n",
    "    def create_table(self):\n",
    "        self.cursor.execute('''\n",
    "        CREATE TABLE IF NOT EXIST ACCOUNTS(\n",
    "        ACCOUNT_ID ING AUTO_INCRESENT PRIMARY KEY NOT NULL,\n",
    "        CUSTOMER_NAME CARCHAR (255) NOT NULl,\n",
    "        BALANCE FLOAT NOT NULL\n",
    "        )\n",
    "        ''')\n",
    "        self.conn.commit()\n",
    "    def add_account (self, customer_name,balance):\n",
    "        self.cursor.execute(\"INSERT INTO ACCOUNTS WHERE CUSTOMER_NAME LIKE %s\",(customer_name,balance))\n",
    "        self.conn.commit()\n",
    "        print(\"ADDED SUCCESSFULLY!!\")\n",
    "                                                                                 \n",
    "    def search_account(self,keyword):\n",
    "        self.cursor.execute(\"SELECT * FROM ACCOUNTS WHERE ACCOUNT_ID = %s\",(f'%{keyword}%')) \n",
    "        result= self.cursor.fetchall()\n",
    "        if not result:\n",
    "            print(\"NO ACCOUNT FOUND....\")\n",
    "        else:\n",
    "            print(\"MATCHING ACCOUNT FOUND....\")\n",
    "            for row in result:\n",
    "                print(row)\n",
    "    def list_all_account(self):\n",
    "            self.cursor.execute(\"SELECT * FROM ACCOUNTS\")\n",
    "            result = self.cursor.fetchall()\n",
    "            if not result:\n",
    "                print(\"NO ACCOUNTS FOUND....\")\n",
    "            else:\n",
    "                print(\"ALL ACCOUNTS:\")\n",
    "                for row in result:\n",
    "                    print (row)\n",
    "    def delete_record(self):\n",
    "        self.cursor.execute(\"DELETE FROM ACCOUNTS WHERE BALANCE = %s\",(balance))\n",
    "        self.conn.commit()\n",
    "        print(\"BALANCE RECORD DELETED SUCCESSFULLY...\")\n",
    "        "
   ]
  },
  {
   "cell_type": "code",
   "execution_count": null,
   "id": "b922cfd7",
   "metadata": {},
   "outputs": [],
   "source": []
  }
 ],
 "metadata": {
  "kernelspec": {
   "display_name": "Python 3 (ipykernel)",
   "language": "python",
   "name": "python3"
  },
  "language_info": {
   "codemirror_mode": {
    "name": "ipython",
    "version": 3
   },
   "file_extension": ".py",
   "mimetype": "text/x-python",
   "name": "python",
   "nbconvert_exporter": "python",
   "pygments_lexer": "ipython3",
   "version": "3.11.5"
  }
 },
 "nbformat": 4,
 "nbformat_minor": 5
}
