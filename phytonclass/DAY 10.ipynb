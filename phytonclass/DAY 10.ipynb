{
 "cells": [
  {
   "cell_type": "code",
   "execution_count": null,
   "id": "a951e5f4",
   "metadata": {},
   "outputs": [],
   "source": [
    "## exercise\n",
    "## write a simulation program that has the following attributes\n",
    "## [brand, model,color, year,speed] and the following methods:\n",
    "## [start,change gear, acceleration and stop]."
   ]
  },
  {
   "cell_type": "code",
   "execution_count": 31,
   "id": "1843d744",
   "metadata": {},
   "outputs": [],
   "source": [
    "class simulation:\n",
    "    attrl1=\"brand\"\n",
    "    attrl2=\"color\"\n",
    "    attrl3=\"model\"\n",
    "    attrl4=\"year\"\n",
    "    attrl5=\"speed\"\n",
    "    def method_start(self):\n",
    "        brand=input(\"begin simulation of:\")\n",
    "        while brand == self.attrl1:\n",
    "            print(f' The model of the car{attrl3} determine the movement of the car')\n",
    "    def method2_changear(self):\n",
    "        gear=input(\"change gear:\")\n",
    "        while gear == self.attrl5:\n",
    "            print(f\"gear has been changed\")\n",
    "            \n",
    "car = simulation()"
   ]
  },
  {
   "cell_type": "code",
   "execution_count": 32,
   "id": "c9133b0a",
   "metadata": {},
   "outputs": [
    {
     "name": "stdout",
     "output_type": "stream",
     "text": [
      "begin simulation of:mercedes\n"
     ]
    }
   ],
   "source": [
    "car.method_start()"
   ]
  },
  {
   "cell_type": "code",
   "execution_count": 33,
   "id": "1513d4e8",
   "metadata": {},
   "outputs": [
    {
     "name": "stdout",
     "output_type": "stream",
     "text": [
      "change gear:3\n"
     ]
    }
   ],
   "source": [
    "car.method2_changear()"
   ]
  },
  {
   "cell_type": "code",
   "execution_count": 22,
   "id": "fb21459b",
   "metadata": {},
   "outputs": [],
   "source": [
    "class simulation:\n",
    "    def __init__(self,brand,model,color,year,speed):\n",
    "        self.brand=brand\n",
    "        self.model=model\n",
    "        self.color=color\n",
    "        self.year=year\n",
    "        self.speed=speed\n",
    "    def start(self):\n",
    "        print(f'{self.brand} {self.model} has started')\n",
    "    def gear(self):\n",
    "        option=input(\"choose gear opetion with, [1,2,3,4,5,R]\")\n",
    "        if option == \"1\":\n",
    "            print(f'Gear changed to one{self.speed}')\n",
    "        elif option == \"2\":\n",
    "            print(f'Gear changed to two {self.speed}')\n",
    "        elif option == \"3\":\n",
    "            print(f'Gear changed to three {self.speed}')\n",
    "        elif option == \"4\":\n",
    "            print(f'Gear changed to four {self.speed}')\n",
    "        elif option == \"5\":\n",
    "            print(f'Gear changed to five {self.speed}')\n",
    "        elif option == \"R\":\n",
    "            print(\"REVERSE\")\n",
    "    def acceleration (self):\n",
    "        option=input (\"select NITRO acceleration[on,off]\")\n",
    "        if option == \"on\":\n",
    "            print(\"NITRO ENGAGED!!!\")\n",
    "        if option == \"OFF\":\n",
    "            print(\"NITRO IS SWITCHED OFF!!!\")\n",
    "    def stop(self):\n",
    "        print(\"ENGINE OFF\")\n",
    "        \n",
    "\n",
    "car1=simulation(\"MERCEDES BENZ\",\"4MATIC E20\", \"RED\",2023, \"500MPH\")   "
   ]
  },
  {
   "cell_type": "code",
   "execution_count": 23,
   "id": "3e482ae3",
   "metadata": {},
   "outputs": [
    {
     "name": "stdout",
     "output_type": "stream",
     "text": [
      "MERCEDES BENZ 4MATIC E20 has started\n"
     ]
    }
   ],
   "source": [
    "car1.start()"
   ]
  },
  {
   "cell_type": "code",
   "execution_count": 25,
   "id": "b5d60543",
   "metadata": {},
   "outputs": [
    {
     "name": "stdout",
     "output_type": "stream",
     "text": [
      "choose gear opetion with, [1,2,3,4,5,R]4\n",
      "Gear changed to four 500MPH\n"
     ]
    }
   ],
   "source": [
    "car1.gear()"
   ]
  },
  {
   "cell_type": "code",
   "execution_count": 28,
   "id": "35ab038b",
   "metadata": {},
   "outputs": [
    {
     "name": "stdout",
     "output_type": "stream",
     "text": [
      "select NITRO acceleration[on,off]on\n",
      "NITRO ENGAGED!!!\n"
     ]
    }
   ],
   "source": [
    "car1.acceleration()"
   ]
  },
  {
   "cell_type": "code",
   "execution_count": 34,
   "id": "dfbb95b7",
   "metadata": {},
   "outputs": [
    {
     "name": "stdout",
     "output_type": "stream",
     "text": [
      "ENGINE OFF\n"
     ]
    }
   ],
   "source": [
    "car1.stop()"
   ]
  },
  {
   "cell_type": "code",
   "execution_count": 2,
   "id": "ed322acd",
   "metadata": {},
   "outputs": [
    {
     "ename": "NameError",
     "evalue": "name 'simulation' is not defined",
     "output_type": "error",
     "traceback": [
      "\u001b[1;31m---------------------------------------------------------------------------\u001b[0m",
      "\u001b[1;31mNameError\u001b[0m                                 Traceback (most recent call last)",
      "Cell \u001b[1;32mIn[2], line 1\u001b[0m\n\u001b[1;32m----> 1\u001b[0m \u001b[38;5;28;01mclass\u001b[39;00m \u001b[38;5;21;01msimulation2\u001b[39;00m(simulation):\n\u001b[0;32m      2\u001b[0m     \u001b[38;5;28;01mdef\u001b[39;00m \u001b[38;5;21mopenroof\u001b[39m(\u001b[38;5;28mself\u001b[39m):\n\u001b[0;32m      3\u001b[0m         option\u001b[38;5;241m=\u001b[39m\u001b[38;5;28minput\u001b[39m(\u001b[38;5;124m\"\u001b[39m\u001b[38;5;124mwhat is condition [open,close]\u001b[39m\u001b[38;5;124m\"\u001b[39m)\n",
      "\u001b[1;31mNameError\u001b[0m: name 'simulation' is not defined"
     ]
    }
   ],
   "source": [
    "class simulation2(simulation):\n",
    "    def openroof(self):\n",
    "        option=input(\"what is condition [open,close]\")\n",
    "        if option == \"open\":\n",
    "            print (\"roof opened\")\n",
    "        elif option ==\"close\":\n",
    "            print (\"roof closed\")\n",
    "car2=simulation2(\"MERCEDES BENZ\",\"4MATIC E20\", \"BLACK\", 2022,\"300MPH\")"
   ]
  },
  {
   "cell_type": "code",
   "execution_count": null,
   "id": "0df9473c",
   "metadata": {},
   "outputs": [],
   "source": []
  },
  {
   "cell_type": "code",
   "execution_count": null,
   "id": "914d53e9",
   "metadata": {},
   "outputs": [],
   "source": []
  }
 ],
 "metadata": {
  "kernelspec": {
   "display_name": "Python 3 (ipykernel)",
   "language": "python",
   "name": "python3"
  },
  "language_info": {
   "codemirror_mode": {
    "name": "ipython",
    "version": 3
   },
   "file_extension": ".py",
   "mimetype": "text/x-python",
   "name": "python",
   "nbconvert_exporter": "python",
   "pygments_lexer": "ipython3",
   "version": "3.11.5"
  }
 },
 "nbformat": 4,
 "nbformat_minor": 5
}
