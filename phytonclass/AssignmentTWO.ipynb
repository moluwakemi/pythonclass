{
 "cells": [
  {
   "cell_type": "code",
   "execution_count": 2,
   "id": "d930b70c",
   "metadata": {},
   "outputs": [
    {
     "name": "stdout",
     "output_type": "stream",
     "text": [
      "what is your age:25\n",
      "what region do you reside in:North west\n",
      "congratulations you are eligible for the job\n"
     ]
    }
   ],
   "source": [
    "# ASSIGNMENT 1\n",
    "## In the given code, a person's eligibility for a job offer is determined based on their age and region. if the person is\n",
    "## eligible, a random state from the provided list is chosen. identify a potential issue in the code and propose a modification\n",
    "## to address it.\n",
    "\n",
    "state=[\"abia\",\"enugu\",\"kano\",\"kaduna\"]\n",
    "age=float(input(\"what is your age:\"))\n",
    "region=input(\"what region do you reside in:\")\n",
    "if age >= 23 and region == \"North west\":\n",
    "    print(\"congratulations you are eligible for the job\"ra)    \n",
    "elif age >= 23 and region == \"south east\":\n",
    "    print(\"congratulations you are eligible for the job\")\n",
    "elif age >= 23 and region == \"North east\":\n",
    "    print(\"congratulations you are eligible for the job\")\n",
    "elif age >= 23 and region == \"south west\":\n",
    "    print(\"congratulations you are eligible for the job\")\n",
    "elif age >= 23 and region == \"south south\":\n",
    "    print(\"congratulations you are eligible for the job\")\n",
    "    \n",
    "else:\n",
    "    print(\"sorry you are not eligible for the job.\")"
   ]
  },
  {
   "cell_type": "code",
   "execution_count": null,
   "id": "300fe7ed",
   "metadata": {},
   "outputs": [],
   "source": [
    "# ASSIGNMENT 2\n",
    "## create an input funtion to calculate the quantity of food being served in a restaurant\n",
    "## amount of food is #12,000\n",
    "## calculate the amount of each dish."
   ]
  },
  {
   "cell_type": "code",
   "execution_count": 6,
   "id": "2d840350",
   "metadata": {},
   "outputs": [
    {
     "name": "stdout",
     "output_type": "stream",
     "text": [
      "what is the quantity of food served?:3\n",
      "amount of each dish 4000.0\n"
     ]
    }
   ],
   "source": [
    "user=float(input(\"what is the quantity of food served?:\"))\n",
    "food_price = 12000\n",
    "amount_dish = food_price/user\n",
    "print(f\"amount of each dish {amount_dish}\")"
   ]
  },
  {
   "cell_type": "code",
   "execution_count": 16,
   "id": "57998240",
   "metadata": {},
   "outputs": [
    {
     "name": "stdout",
     "output_type": "stream",
     "text": [
      "James\n",
      "+46789843337\n",
      "microwave\n",
      "67-375875\n",
      "1/9/2023\n"
     ]
    }
   ],
   "source": [
    "# ASSIGNMENT 3\n",
    "## how can you use a dictionary to store an access information about a customer's orders, including the order number, date,\n",
    "## and items purchased? 5 records.\n",
    "\n",
    "customer={\n",
    "    \"name\":{\"name1\":\"Emma\",\"name2\":\"James\",\"name3\":\"Joshua\"},\n",
    "    \"contact\":\"+46789843337\",\n",
    "    \"items\":\"microwave\",\n",
    "    \"order number\": \"67-375875\",\n",
    "    \"date of purchase\": \"1/9/2023\"\n",
    "}\n",
    "print(customer[\"name\"][\"name2\"])\n",
    "print(customer[\"contact\"])\n",
    "print(customer[\"items\"])\n",
    "print(customer[\"order number\"])\n",
    "print(customer[\"date of purchase\"])"
   ]
  },
  {
   "cell_type": "code",
   "execution_count": null,
   "id": "152cb492",
   "metadata": {},
   "outputs": [],
   "source": [
    "# ASSIGNMENT 4\n",
    "## RANDOMLY GENERATE A NUMBER AND WRITE A PROGRAM TO ASK A USER TO GUESS UNTIL IT IS CORRECT USE A CONDITION TO GIVE HINT\n",
    "## NOTE:\n",
    "## 1.use the while loop for the iteration\n",
    "## 2.import a module for the given problem."
   ]
  },
  {
   "cell_type": "code",
   "execution_count": 20,
   "id": "d82a2043",
   "metadata": {},
   "outputs": [
    {
     "name": "stdout",
     "output_type": "stream",
     "text": [
      "guess the correct number:9\n",
      "number is guessed correctly\n"
     ]
    }
   ],
   "source": [
    "# while loop\n",
    "\n",
    "## WHILE LOOP\n",
    "counter=0\n",
    "user=(input(\"guess the correct number:\"))\n",
    "import random\n",
    "while counter in range (0,10):\n",
    "    num=(random.randint(0,10))\n",
    "    if counter > 0:\n",
    "        print(\"number is guessed correctly\")\n",
    "    elif counter < 10:\n",
    "        print(\"number is guessed correctly\")\n",
    "        break\n",
    "    else:\n",
    "        print(\"number is guessed wrongly\")\n",
    "        print(f\"The user is{random.randint(user)}\")\n",
    "       "
   ]
  },
  {
   "cell_type": "code",
   "execution_count": 1,
   "id": "ffc6b04c",
   "metadata": {},
   "outputs": [
    {
     "name": "stdout",
     "output_type": "stream",
     "text": [
      "what is your number:16\n"
     ]
    },
    {
     "data": {
      "text/plain": [
       "'16 is even'"
      ]
     },
     "execution_count": 1,
     "metadata": {},
     "output_type": "execute_result"
    }
   ],
   "source": [
    "# ASSIGNMENT 5\n",
    "## WRITE A LAMBDA IF A USER INPUT IS EVEN OR ODD.\n",
    "(lambda usernumber: f\"{usernumber} is even\"if usernumber %2 == 0 else f\"{usernumber} is odd\") (int(input(\"what is your number:\")))"
   ]
  },
  {
   "cell_type": "code",
   "execution_count": 2,
   "id": "665a7237",
   "metadata": {},
   "outputs": [
    {
     "name": "stdout",
     "output_type": "stream",
     "text": [
      "what is your number:19\n"
     ]
    },
    {
     "data": {
      "text/plain": [
       "'19 is odd'"
      ]
     },
     "execution_count": 2,
     "metadata": {},
     "output_type": "execute_result"
    }
   ],
   "source": [
    "## WRITE A LAMBDA IF A USER INPUT IS EVEN OR ODD.\n",
    "(lambda usernumber: f\"{usernumber} is even\"if usernumber %2 == 0 else f\"{usernumber} is odd\") (int(input(\"what is your number:\")))"
   ]
  },
  {
   "cell_type": "markdown",
   "id": "d91c9c11",
   "metadata": {},
   "source": [
    "## Map,filter,lambda Assignment"
   ]
  },
  {
   "cell_type": "code",
   "execution_count": null,
   "id": "a816bed7",
   "metadata": {},
   "outputs": [],
   "source": [
    "# 1.Write a lambda function that squares a given number.\n",
    "# 2.Filter a list of strings to include only those that have more than 5 characters.\n",
    "# 3.Given a list of temperatures in Celsius, use map to convert them to Fahrenheit using the formula: F-9/5c+32."
   ]
  },
  {
   "cell_type": "code",
   "execution_count": 1,
   "id": "6f9ce1f5",
   "metadata": {},
   "outputs": [
    {
     "name": "stdout",
     "output_type": "stream",
     "text": [
      "[1, 16, 64, 2500, 625, 40000]\n"
     ]
    }
   ],
   "source": [
    "# LAMBDA\n",
    "numbers=[1,4,8,50,25,200]\n",
    "squared_roots=list(map(lambda x: x**2, numbers))\n",
    "print(squared_roots)"
   ]
  },
  {
   "cell_type": "code",
   "execution_count": 2,
   "id": "18599b68",
   "metadata": {},
   "outputs": [
    {
     "name": "stdout",
     "output_type": "stream",
     "text": [
      "['laptop', 'premier', 'diction', 'comment']\n"
     ]
    }
   ],
   "source": [
    "# FILTER STRINGS\n",
    "list_of_strings=[\"boy\",\"laptop\",\"premier\",\"iron\",\"diction\",\"line\",\"comment\"]\n",
    "filtered_strings=[strings for strings in list_of_strings if len(strings)>5]\n",
    "print(filtered_strings)"
   ]
  },
  {
   "cell_type": "code",
   "execution_count": 5,
   "id": "c0645271",
   "metadata": {},
   "outputs": [
    {
     "name": "stdout",
     "output_type": "stream",
     "text": [
      "[82.4, 104.0, 86.0, 68.0]\n"
     ]
    }
   ],
   "source": [
    "# MAP\n",
    "celsius_temperature=[28, 40, 30, 20]\n",
    "def celsius_fahrenheit(celsius):\n",
    "    return 9/5 * celsius + 32\n",
    "fahrenheit_temperature=list(map(celsius_fahrenheit, celsius_temperature))\n",
    "print(fahrenheit_temperature)"
   ]
  },
  {
   "cell_type": "code",
   "execution_count": 6,
   "id": "39d5d05e",
   "metadata": {},
   "outputs": [],
   "source": [
    "## CLASS\n",
    "## The class should have attributes for the account holder's name, account number, and balance.\n",
    "## Implement methods for depositing and withdrawing money from the account.\n",
    "## Ensure that withdrawing money is not allowed if the withdrawal amount exceeds the account balance.\n",
    "## Implement a method to display the account details.\n",
    "\n",
    "class customer:\n",
    "    attrl1=\"blossom\"\n",
    "    attrl2=\"female\"\n",
    "    attrl3=\"1900000011\"\n",
    "    attrl4=\"500000\"\n",
    "    \n",
    "    def details(self): \n",
    "        print(f'''name:{self.attrl1}\n",
    "        gender:{self.attrl2}\n",
    "        account number:{self.attrl3}\n",
    "        account balance:{self.attrl4}''')\n",
    "        \n",
    "    def info(self):\n",
    "        print(f'''name is {self.attrl1} \n",
    "        gender {self.attrl2} \n",
    "        account number {self.attrl3} \n",
    "        account balance {self.attrl4} ''')\n",
    "        \n",
    "customer2=customer()"
   ]
  },
  {
   "cell_type": "code",
   "execution_count": 7,
   "id": "7d9c21c6",
   "metadata": {},
   "outputs": [
    {
     "name": "stdout",
     "output_type": "stream",
     "text": [
      "name is blossom \n",
      "        gender female \n",
      "        account number 1900000011 \n",
      "        account balance 500000 \n"
     ]
    }
   ],
   "source": [
    "customer2.info()"
   ]
  },
  {
   "cell_type": "code",
   "execution_count": 15,
   "id": "91db0f6c",
   "metadata": {},
   "outputs": [],
   "source": [
    "class accstatus:\n",
    "    def __init__(self):\n",
    "        self.balance=0\n",
    "    def deposit(self):\n",
    "        amount=float(input(\"Enter deposit amount:\"))\n",
    "        self.balance += amount\n",
    "        print(\"Transaction successfully....\")\n",
    "    def withdrawal(self):\n",
    "        amount=float(input(\"Enter withdrawal amount:\"))\n",
    "        bankname=input(\"enter bank name:\")\n",
    "        acct_number=input(\"enter account no:\")\n",
    "        if amount > self.balance or amount == 0:\n",
    "            print(\"Cannot complete transaction due to insufficient funds\")\n",
    "        else:\n",
    "            self.balance -= amount\n",
    "            print('Transaction successfully !!!')\n",
    "            \n",
    "    def accbalance(self):\n",
    "        print(f' Your available balance is {self.balance}')\n",
    "\n",
    "mobileapp=accstatus()"
   ]
  },
  {
   "cell_type": "code",
   "execution_count": 16,
   "id": "631fdcd9",
   "metadata": {},
   "outputs": [
    {
     "name": "stdout",
     "output_type": "stream",
     "text": [
      "Enter deposit amount:50000\n",
      "Transaction successfully....\n"
     ]
    }
   ],
   "source": [
    "mobileapp.deposit()"
   ]
  },
  {
   "cell_type": "code",
   "execution_count": 17,
   "id": "c4ed1a03",
   "metadata": {},
   "outputs": [
    {
     "name": "stdout",
     "output_type": "stream",
     "text": [
      "Enter withdrawal amount:60000\n",
      "enter bank name:Zenith Bank\n",
      "enter account no:1900000011\n",
      "Cannot complete transaction due to insufficient funds\n"
     ]
    }
   ],
   "source": [
    "mobileapp.withdrawal()"
   ]
  },
  {
   "cell_type": "code",
   "execution_count": 19,
   "id": "9af97d39",
   "metadata": {},
   "outputs": [
    {
     "name": "stdout",
     "output_type": "stream",
     "text": [
      " Your available balance is 50000.0\n"
     ]
    }
   ],
   "source": [
    "mobileapp.accbalance()"
   ]
  }
 ],
 "metadata": {
  "kernelspec": {
   "display_name": "Python 3 (ipykernel)",
   "language": "python",
   "name": "python3"
  },
  "language_info": {
   "codemirror_mode": {
    "name": "ipython",
    "version": 3
   },
   "file_extension": ".py",
   "mimetype": "text/x-python",
   "name": "python",
   "nbconvert_exporter": "python",
   "pygments_lexer": "ipython3",
   "version": "3.11.5"
  }
 },
 "nbformat": 4,
 "nbformat_minor": 5
}
