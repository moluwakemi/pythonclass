{
 "cells": [
  {
   "cell_type": "code",
   "execution_count": 4,
   "id": "da9ad2b5",
   "metadata": {},
   "outputs": [],
   "source": [
    "import pymysql"
   ]
  },
  {
   "cell_type": "code",
   "execution_count": 9,
   "id": "61327ad1",
   "metadata": {},
   "outputs": [
    {
     "ename": "SyntaxError",
     "evalue": "unterminated string literal (detected at line 29) (813202827.py, line 29)",
     "output_type": "error",
     "traceback": [
      "\u001b[1;36m  Cell \u001b[1;32mIn[9], line 29\u001b[1;36m\u001b[0m\n\u001b[1;33m    self.cursor.execute(\"SELECT * FROM ACCOUNTS WHERE ACCOUNT_ID = %s\",(f'%{keyword}%,))\u001b[0m\n\u001b[1;37m                                                                        ^\u001b[0m\n\u001b[1;31mSyntaxError\u001b[0m\u001b[1;31m:\u001b[0m unterminated string literal (detected at line 29)\n"
     ]
    }
   ],
   "source": [
    "class Bank:\n",
    "    \n",
    "    def __init__(self,host,user,port,password,database):\n",
    "        sel.conn = pymysql.connect(\n",
    "        host=host,\n",
    "        user=user,\n",
    "        port=port,\n",
    "        password=password,\n",
    "        database=database\n",
    "        )\n",
    "        self.cursor = self.conn.cursor()\n",
    "        self.create_table()\n",
    "        \n",
    "    def create_table(self):\n",
    "        self.cursor.execute('''\n",
    "        CREATE TABLE IF NOT EXIST ACCOUNTS(\n",
    "        ACCOUNT_ID INT AUTO_INCRESENT PRIMARY KEY NOT NULL,\n",
    "        CUSTOMER_NAME VARCHAR (255) NOT NULl,\n",
    "        BALANCE FLOAT NOT NULL\n",
    "        )\n",
    "        ''')\n",
    "        self.conn.commit()\n",
    "    def add_account (self, customer_name,balance):\n",
    "        self.cursor.execute(\"INSERT INTO ACCOUNTS WHERE CUSTOMER_NAME LIKE %s\",(customer_name,balance))\n",
    "        self.conn.commit()\n",
    "        print(\"ADDED SUCCESSFULLY!!\")\n",
    "                                                                                 \n",
    "    def search_account(self,keyword):\n",
    "        self.cursor.execute(\"SELECT * FROM ACCOUNTS WHERE ACCOUNT_ID = %s\",(f'%{keyword}%,)) \n",
    "        result= self.cursor.fetchall()\n",
    "        if not result:\n",
    "            print(\"NO ACCOUNT FOUND....\")\n",
    "        else:\n",
    "            print(\"MATCHING ACCOUNT FOUND....\")\n",
    "            for row in result:\n",
    "                print(row)\n",
    "    def list_all_account(self):\n",
    "        self.cursor.execute(\"SELECT * FROM ACCOUNTS\")\n",
    "        result = self.cursor.fetchall()\n",
    "        if not result:\n",
    "            print(\"NO ACCOUNTS FOUND....\")\n",
    "        else:\n",
    "            print(\"ALL ACCOUNTS:\")\n",
    "            for row in result:\n",
    "                print (row)\n",
    "    def delete_account(self,account_id):\n",
    "        self.cursor.execute(\"DELETE FROM ACCOUNTS WHERE BALANCE IS = %s\",(account_id,))\n",
    "        self.conn.commit()\n",
    "        print(f\"ACCOUNTS DETAILS DELETED {account_id} SUCCESSFULLY...\")\n",
    "                                                                            \n",
    "    def close_conn(self):\n",
    "        self.cursor.close()\n",
    "        self.conn.close()\n",
    "def main():\n",
    "    host=input(\"ENTER MYSQL HOST:\")\n",
    "    user=input(\"ENTER USER NAME:\")\n",
    "    port=input(\"ENTER PORT NUMBER:\")\n",
    "    password=input(\"ENTER THE PASSWORD MYSQL:\")\n",
    "    database=\"Bank\"\n",
    "    program=Bank(host,user,port,password,database)\n",
    " \n",
    "    program.close.conn()\n",
    "                                                                            \n",
    "if __name__==\" __main__\":                                       \n",
    "    main()                                                                                                                  "
   ]
  },
  {
   "cell_type": "code",
   "execution_count": null,
   "id": "4a94aaf0",
   "metadata": {},
   "outputs": [],
   "source": []
  }
 ],
 "metadata": {
  "kernelspec": {
   "display_name": "Python 3 (ipykernel)",
   "language": "python",
   "name": "python3"
  },
  "language_info": {
   "codemirror_mode": {
    "name": "ipython",
    "version": 3
   },
   "file_extension": ".py",
   "mimetype": "text/x-python",
   "name": "python",
   "nbconvert_exporter": "python",
   "pygments_lexer": "ipython3",
   "version": "3.11.5"
  }
 },
 "nbformat": 4,
 "nbformat_minor": 5
}
