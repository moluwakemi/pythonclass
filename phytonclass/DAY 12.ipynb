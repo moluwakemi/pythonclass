{
 "cells": [
  {
   "cell_type": "markdown",
   "id": "757af934",
   "metadata": {},
   "source": [
    "## Date and Time"
   ]
  },
  {
   "cell_type": "code",
   "execution_count": 1,
   "id": "c8bb4a66",
   "metadata": {},
   "outputs": [
    {
     "name": "stdout",
     "output_type": "stream",
     "text": [
      "['MAXYEAR', 'MINYEAR', 'UTC', '__all__', '__builtins__', '__cached__', '__doc__', '__file__', '__loader__', '__name__', '__package__', '__spec__', 'date', 'datetime', 'datetime_CAPI', 'sys', 'time', 'timedelta', 'timezone', 'tzinfo']\n"
     ]
    }
   ],
   "source": [
    "import datetime\n",
    "print(dir(datetime))"
   ]
  },
  {
   "cell_type": "code",
   "execution_count": 2,
   "id": "66b479ed",
   "metadata": {},
   "outputs": [
    {
     "data": {
      "text/plain": [
       "datetime.date(2022, 2, 15)"
      ]
     },
     "execution_count": 2,
     "metadata": {},
     "output_type": "execute_result"
    }
   ],
   "source": [
    "date1=datetime.date(2022,2,15)\n",
    "date1"
   ]
  },
  {
   "cell_type": "code",
   "execution_count": 3,
   "id": "cc688036",
   "metadata": {},
   "outputs": [
    {
     "name": "stdout",
     "output_type": "stream",
     "text": [
      "2022\n",
      "15\n",
      "2\n",
      "1\n",
      "2\n"
     ]
    }
   ],
   "source": [
    "print (date1.year)\n",
    "print(date1.day)\n",
    "print(date1.month)\n",
    "print(date1.weekday())\n",
    "print(date1.isoweekday())"
   ]
  },
  {
   "cell_type": "code",
   "execution_count": 4,
   "id": "b3d87f3d",
   "metadata": {},
   "outputs": [
    {
     "data": {
      "text/plain": [
       "datetime.date(2023, 6, 12)"
      ]
     },
     "execution_count": 4,
     "metadata": {},
     "output_type": "execute_result"
    }
   ],
   "source": [
    "currentdate=datetime.date.today()\n",
    "currentdate"
   ]
  },
  {
   "cell_type": "code",
   "execution_count": 5,
   "id": "405171bb",
   "metadata": {},
   "outputs": [
    {
     "data": {
      "text/plain": [
       "'12 of June, 23'"
      ]
     },
     "execution_count": 5,
     "metadata": {},
     "output_type": "execute_result"
    }
   ],
   "source": [
    "# strftime: this is used for the modification of date and time\n",
    "currentdate.strftime(\"%d of %B, %y\")"
   ]
  },
  {
   "cell_type": "code",
   "execution_count": null,
   "id": "ddea7f46",
   "metadata": {},
   "outputs": [],
   "source": [
    "## Time"
   ]
  },
  {
   "cell_type": "code",
   "execution_count": 16,
   "id": "174849ee",
   "metadata": {},
   "outputs": [
    {
     "data": {
      "text/plain": [
       "datetime.time(20, 32, 26, 360067)"
      ]
     },
     "execution_count": 16,
     "metadata": {},
     "output_type": "execute_result"
    }
   ],
   "source": [
    "currenttime1=datetime.datetime.now().time()\n",
    "currenttime1"
   ]
  },
  {
   "cell_type": "code",
   "execution_count": 8,
   "id": "7a4afc01",
   "metadata": {},
   "outputs": [
    {
     "data": {
      "text/plain": [
       "datetime.datetime(2023, 6, 12, 20, 22, 37, 68858)"
      ]
     },
     "execution_count": 8,
     "metadata": {},
     "output_type": "execute_result"
    }
   ],
   "source": [
    "currenttime=datetime.datetime.now()\n",
    "currenttime"
   ]
  },
  {
   "cell_type": "code",
   "execution_count": 9,
   "id": "96f5f035",
   "metadata": {},
   "outputs": [
    {
     "data": {
      "text/plain": [
       "datetime.date(2023, 6, 12)"
      ]
     },
     "execution_count": 9,
     "metadata": {},
     "output_type": "execute_result"
    }
   ],
   "source": [
    "currenttime=datetime.datetime.now().date()\n",
    "currenttime"
   ]
  },
  {
   "cell_type": "code",
   "execution_count": 17,
   "id": "3bc447e7",
   "metadata": {},
   "outputs": [
    {
     "data": {
      "text/plain": [
       "'20::32::26::PM'"
      ]
     },
     "execution_count": 17,
     "metadata": {},
     "output_type": "execute_result"
    }
   ],
   "source": [
    "currenttime1.strftime(\"%H::%M::%S::%p\")"
   ]
  },
  {
   "cell_type": "code",
   "execution_count": 19,
   "id": "d680953a",
   "metadata": {},
   "outputs": [
    {
     "name": "stdout",
     "output_type": "stream",
     "text": [
      "Enter your date[mm/dd/yy]:12/2/2023\n"
     ]
    },
    {
     "data": {
      "text/plain": [
       "datetime.date(2023, 12, 2)"
      ]
     },
     "execution_count": 19,
     "metadata": {},
     "output_type": "execute_result"
    }
   ],
   "source": [
    "cdate=input(\"Enter your date[mm/dd/yy]:\")\n",
    "condate=datetime.datetime.strptime(cdate,\"%m/%d/%Y\").date()\n",
    "condate"
   ]
  },
  {
   "cell_type": "code",
   "execution_count": 20,
   "id": "f6017fa2",
   "metadata": {},
   "outputs": [
    {
     "data": {
      "text/plain": [
       "datetime.timedelta(days=-173)"
      ]
     },
     "execution_count": 20,
     "metadata": {},
     "output_type": "execute_result"
    }
   ],
   "source": [
    "currentdate - condate## this subtract the current date from a specific date given."
   ]
  },
  {
   "cell_type": "code",
   "execution_count": 21,
   "id": "11bdfffb",
   "metadata": {},
   "outputs": [
    {
     "data": {
      "text/plain": [
       "datetime.date(2023, 1, 13)"
      ]
     },
     "execution_count": 21,
     "metadata": {},
     "output_type": "execute_result"
    }
   ],
   "source": [
    "currentdate - datetime.timedelta(days=150)## this subtract a particular days given from the saved current date"
   ]
  },
  {
   "cell_type": "code",
   "execution_count": 22,
   "id": "7f21d631",
   "metadata": {},
   "outputs": [
    {
     "data": {
      "text/plain": [
       "datetime.date(2023, 7, 27)"
      ]
     },
     "execution_count": 22,
     "metadata": {},
     "output_type": "execute_result"
    }
   ],
   "source": [
    "currentdate + datetime.timedelta(days=45)## this is the addition of the days to a particular date."
   ]
  },
  {
   "cell_type": "code",
   "execution_count": null,
   "id": "12b39e95",
   "metadata": {},
   "outputs": [],
   "source": [
    "strappdate=input(\"Enter your date[yy/mm/dd]:\")\n",
    "appdate=datetime.datetime.strptime(strappdate,\"%Y/%m/%d\").date()\n"
   ]
  },
  {
   "cell_type": "markdown",
   "id": "de7eaa10",
   "metadata": {},
   "source": [
    "## EXERCISE\n",
    "\n",
    "## Write a program to calculate how many weeks and day a user has until his/her appointment from the current date"
   ]
  },
  {
   "cell_type": "code",
   "execution_count": 34,
   "id": "b4ecd673",
   "metadata": {},
   "outputs": [
    {
     "name": "stdout",
     "output_type": "stream",
     "text": [
      "Enter your date[yy/mm/dd]:2024/02/6\n",
      "DEAR USER YOU HAVE 34 weeks and 1 days until your appointment.\n"
     ]
    }
   ],
   "source": [
    "strappdate=input(\"Enter your date[yy/mm/dd]:\")\n",
    "appdate=datetime.datetime.strptime(strappdate,\"%Y/%m/%d\").date()\n",
    "currentdate=datetime.date.today()\n",
    "diff=appdate - currentdate\n",
    "weeks=diff.days//7\n",
    "nowdays=diff.days % 7\n",
    "print(f'DEAR USER YOU HAVE {weeks} weeks and {nowdays} days until your appointment.')"
   ]
  },
  {
   "cell_type": "code",
   "execution_count": 4,
   "id": "cfdf49f2",
   "metadata": {},
   "outputs": [
    {
     "name": "stdout",
     "output_type": "stream",
     "text": [
      "Enter your date[yy/mm/dd]:2023/12/18\n"
     ]
    },
    {
     "ename": "NameError",
     "evalue": "name 'datetime' is not defined",
     "output_type": "error",
     "traceback": [
      "\u001b[1;31m---------------------------------------------------------------------------\u001b[0m",
      "\u001b[1;31mNameError\u001b[0m                                 Traceback (most recent call last)",
      "Cell \u001b[1;32mIn[4], line 2\u001b[0m\n\u001b[0;32m      1\u001b[0m strappdate\u001b[38;5;241m=\u001b[39m\u001b[38;5;28minput\u001b[39m(\u001b[38;5;124m\"\u001b[39m\u001b[38;5;124mEnter your date[yy/mm/dd]:\u001b[39m\u001b[38;5;124m\"\u001b[39m)\n\u001b[1;32m----> 2\u001b[0m appdate\u001b[38;5;241m=\u001b[39mdatetime\u001b[38;5;241m.\u001b[39mdatetime\u001b[38;5;241m.\u001b[39mstrptime(strappdate,\u001b[38;5;124m\"\u001b[39m\u001b[38;5;124m%\u001b[39m\u001b[38;5;124mY/\u001b[39m\u001b[38;5;124m%\u001b[39m\u001b[38;5;124mm/\u001b[39m\u001b[38;5;132;01m%d\u001b[39;00m\u001b[38;5;124m\"\u001b[39m)\u001b[38;5;241m.\u001b[39mdate()\n\u001b[0;32m      3\u001b[0m currentdate\u001b[38;5;241m=\u001b[39mdatetime\u001b[38;5;241m.\u001b[39mdate\u001b[38;5;241m.\u001b[39mtoday()\n\u001b[0;32m      4\u001b[0m check\u001b[38;5;241m=\u001b[39mappdate \u001b[38;5;241m-\u001b[39m currentdate\n",
      "\u001b[1;31mNameError\u001b[0m: name 'datetime' is not defined"
     ]
    }
   ],
   "source": [
    "strappdate=input(\"Enter your date[yy/mm/dd]:\")\n",
    "appdate=datetime.datetime.strptime(strappdate,\"%Y/%m/%d\").date()\n",
    "currentdate=datetime.date.today()\n",
    "check=appdate - currentdate\n",
    "weeks=check.days//7\n",
    "nowdays=check.days % 7\n",
    "print(f'DEAR USER YOU HAVE {weeks} weeks and {nowdays} days until your appointment.')"
   ]
  },
  {
   "cell_type": "code",
   "execution_count": null,
   "id": "8349f7de",
   "metadata": {},
   "outputs": [],
   "source": []
  }
 ],
 "metadata": {
  "kernelspec": {
   "display_name": "Python 3 (ipykernel)",
   "language": "python",
   "name": "python3"
  },
  "language_info": {
   "codemirror_mode": {
    "name": "ipython",
    "version": 3
   },
   "file_extension": ".py",
   "mimetype": "text/x-python",
   "name": "python",
   "nbconvert_exporter": "python",
   "pygments_lexer": "ipython3",
   "version": "3.11.5"
  }
 },
 "nbformat": 4,
 "nbformat_minor": 5
}
