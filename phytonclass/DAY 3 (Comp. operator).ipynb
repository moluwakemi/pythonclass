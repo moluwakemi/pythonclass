{
 "cells": [
  {
   "cell_type": "markdown",
   "id": "c4188d5c",
   "metadata": {},
   "source": [
    "## comparison operator"
   ]
  },
  {
   "cell_type": "code",
   "execution_count": 1,
   "id": "213d0c0d",
   "metadata": {},
   "outputs": [
    {
     "name": "stdout",
     "output_type": "stream",
     "text": [
      "welcome to jupyter notebook\n",
      "50\n",
      "1.5\n",
      "True\n"
     ]
    }
   ],
   "source": [
    "name=\"welcome to jupyter notebook\"\n",
    "num1=50\n",
    "num2=1.5\n",
    "num3=True\n",
    "print(name)\n",
    "print(num1)\n",
    "print(num2)\n",
    "print(num3)"
   ]
  },
  {
   "cell_type": "markdown",
   "id": "08b7be2c",
   "metadata": {},
   "source": [
    "## equal to ==\n",
    "## greater than >\n",
    "## less than <\n",
    "## greaterequal to >=\n",
    "## lessthan equal to <="
   ]
  },
  {
   "cell_type": "code",
   "execution_count": 2,
   "id": "9f8b435c",
   "metadata": {},
   "outputs": [
    {
     "data": {
      "text/plain": [
       "False"
      ]
     },
     "execution_count": 2,
     "metadata": {},
     "output_type": "execute_result"
    }
   ],
   "source": [
    "20==20\n",
    "20>30\n",
    "20<45\n",
    "40>=50\n",
    "100<=98"
   ]
  },
  {
   "cell_type": "code",
   "execution_count": 3,
   "id": "b963e33d",
   "metadata": {},
   "outputs": [
    {
     "data": {
      "text/plain": [
       "False"
      ]
     },
     "execution_count": 3,
     "metadata": {},
     "output_type": "execute_result"
    }
   ],
   "source": [
    "20>30"
   ]
  },
  {
   "cell_type": "code",
   "execution_count": 4,
   "id": "680c5462",
   "metadata": {},
   "outputs": [
    {
     "name": "stdout",
     "output_type": "stream",
     "text": [
      "what is the number:50\n",
      "what is the second number:45\n",
      "50 > 45 = True\n",
      "50 == 45 = False\n",
      "50 < 45 = False\n",
      "50 >== 45 = True\n",
      "50 <= 45 = False\n"
     ]
    }
   ],
   "source": [
    "num1=input(\"what is the number:\")\n",
    "num2=input(\"what is the second number:\")\n",
    "print(f'{num1} > {num2} = {num1 > num2}')\n",
    "print(f'{num1} == {num2} = {num1 == num2}')\n",
    "print(f'{num1} < {num2} = {num1 < num2}')\n",
    "print(f'{num1} >== {num2} = {num1 > num2}')\n",
    "print(f'{num1} <= {num2} = {num1 <= num2}')"
   ]
  },
  {
   "cell_type": "code",
   "execution_count": null,
   "id": "cfe9db22",
   "metadata": {},
   "outputs": [],
   "source": [
    "## logical operator\n",
    "## and \n",
    "## or\n",
    "## not"
   ]
  },
  {
   "cell_type": "code",
   "execution_count": 11,
   "id": "0dd84085",
   "metadata": {},
   "outputs": [
    {
     "data": {
      "text/plain": [
       "True"
      ]
     },
     "execution_count": 11,
     "metadata": {},
     "output_type": "execute_result"
    }
   ],
   "source": [
    "a=True\n",
    "b=False\n",
    "c=True\n",
    "d=False\n",
    "## and\n",
    "a and c"
   ]
  },
  {
   "cell_type": "code",
   "execution_count": 6,
   "id": "f072f0da",
   "metadata": {},
   "outputs": [
    {
     "data": {
      "text/plain": [
       "False"
      ]
     },
     "execution_count": 6,
     "metadata": {},
     "output_type": "execute_result"
    }
   ],
   "source": [
    "a and b"
   ]
  },
  {
   "cell_type": "code",
   "execution_count": 7,
   "id": "dee13ab9",
   "metadata": {},
   "outputs": [
    {
     "data": {
      "text/plain": [
       "True"
      ]
     },
     "execution_count": 7,
     "metadata": {},
     "output_type": "execute_result"
    }
   ],
   "source": [
    "## or\n",
    "a or b"
   ]
  },
  {
   "cell_type": "code",
   "execution_count": 8,
   "id": "7b6bf3b8",
   "metadata": {},
   "outputs": [
    {
     "data": {
      "text/plain": [
       "True"
      ]
     },
     "execution_count": 8,
     "metadata": {},
     "output_type": "execute_result"
    }
   ],
   "source": [
    "b or c"
   ]
  },
  {
   "cell_type": "code",
   "execution_count": 12,
   "id": "18f7db24",
   "metadata": {},
   "outputs": [
    {
     "data": {
      "text/plain": [
       "False"
      ]
     },
     "execution_count": 12,
     "metadata": {},
     "output_type": "execute_result"
    }
   ],
   "source": [
    "b or d"
   ]
  },
  {
   "cell_type": "code",
   "execution_count": 13,
   "id": "df6ba59e",
   "metadata": {},
   "outputs": [
    {
     "data": {
      "text/plain": [
       "True"
      ]
     },
     "execution_count": 13,
     "metadata": {},
     "output_type": "execute_result"
    }
   ],
   "source": [
    "## not\n",
    "not d"
   ]
  },
  {
   "cell_type": "code",
   "execution_count": 14,
   "id": "3a26cc6e",
   "metadata": {},
   "outputs": [
    {
     "data": {
      "text/plain": [
       "False"
      ]
     },
     "execution_count": 14,
     "metadata": {},
     "output_type": "execute_result"
    }
   ],
   "source": [
    "not c"
   ]
  },
  {
   "cell_type": "code",
   "execution_count": 18,
   "id": "101ab769",
   "metadata": {},
   "outputs": [
    {
     "name": "stdout",
     "output_type": "stream",
     "text": [
      "The profit mr p made is:0.0\n"
     ]
    }
   ],
   "source": [
    "## mr p bought a good for 500,000 and sold each for 20,000. what is mr p profit?\n",
    "buyingprice= 500000\n",
    "sellingprice= 20000\n",
    "number_goods= buyingprice/sellingprice\n",
    "profit=(sellingprice*number_goods)-buyingprice\n",
    "print(f\"The profit mr p made is:{profit}\")"
   ]
  },
  {
   "cell_type": "code",
   "execution_count": null,
   "id": "3174d8ce",
   "metadata": {},
   "outputs": [],
   "source": []
  }
 ],
 "metadata": {
  "kernelspec": {
   "display_name": "Python 3 (ipykernel)",
   "language": "python",
   "name": "python3"
  },
  "language_info": {
   "codemirror_mode": {
    "name": "ipython",
    "version": 3
   },
   "file_extension": ".py",
   "mimetype": "text/x-python",
   "name": "python",
   "nbconvert_exporter": "python",
   "pygments_lexer": "ipython3",
   "version": "3.11.5"
  }
 },
 "nbformat": 4,
 "nbformat_minor": 5
}
