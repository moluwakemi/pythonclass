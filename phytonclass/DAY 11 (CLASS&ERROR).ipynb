{
 "cells": [
  {
   "cell_type": "code",
   "execution_count": 9,
   "id": "4324ce98",
   "metadata": {},
   "outputs": [],
   "source": [
    "## exercise\n",
    "## write a program to the following to display patient record,\n",
    "## calculate their checking fee based on the continent, check their body the  mass index note read \n",
    "## and understand the question to know what attribute are needed.\n",
    "\n",
    "class patientrecord:\n",
    "    def __init__(self, name,age,height,gender, complexion,weight):\n",
    "        self.name=name\n",
    "        self.age=age\n",
    "        self.gender=gender\n",
    "        self.height=height\n",
    "        self.complexion=complexion\n",
    "        self.weight=weight\n",
    "    def display(self):\n",
    "        print(f\"\"\"_________PATIENT RECORD_________\n",
    "        \n",
    "        \"Name\":{self.name}\n",
    "        \"age\":{self.age}\n",
    "        \"gender\":{self.gender}\n",
    "        \"complexion\":{self.complexion}\n",
    "        \"height\":{self.height}\n",
    "        \"weight\":{self.weight}\n",
    "        \n",
    "        \n",
    "   \"\"\")\n",
    "    def continentfee (self):\n",
    "        option=input(\"what country are you from,[nigeria,canada,sweden,france]\")\n",
    "        if option == \"nigeria\":\n",
    "            print(\"your checking fee is $40\")\n",
    "        elif option == \"canada\":\n",
    "            print(\"your checking fee is $30\")\n",
    "        elif option == \"sweden\":\n",
    "            print(\"your checking fee is $50\")\n",
    "        elif option == \"france\":\n",
    "            print(\"your checking fee is $35\")\n",
    "            \n",
    "    def BMI (self):\n",
    "        weight=float(input(\"what is your current weight in kg:\"))\n",
    "        height=float(input(\"what is your current height in meters:\"))\n",
    "        bmi_calculator=weight/height**2\n",
    "        if bmi_calculator < 16:\n",
    "            print(\"severe thinness see the doctor\")\n",
    "        elif bmi_calculator >= 18.5 and bmi_calculator < 25:\n",
    "            print(\"healthy weight keep it up.\")\n",
    "        elif bmi_calculator >= 25 and bmi_calculator <= 30:\n",
    "            print(\"you are over weight see the doctor\")\n",
    "        elif bmi_calculator >= 30 and bmi_calculator <= 40:\n",
    "            print(\"you are obesse.....se your doctor as soon as possible..\")\n",
    "            \n",
    "hospital=patientrecord(\"Gideon\", 40, 10.0,\"male\", \"fair\", 18.5,)\n",
    "        "
   ]
  },
  {
   "cell_type": "code",
   "execution_count": 10,
   "id": "3330a06b",
   "metadata": {},
   "outputs": [
    {
     "name": "stdout",
     "output_type": "stream",
     "text": [
      "_________PATIENT RECORD_________\n",
      "        \n",
      "        \"Name\":Gideon\n",
      "        \"age\":40\n",
      "        \"gender\":male\n",
      "        \"complexion\":fair\n",
      "        \"height\":10.0\n",
      "        \"weight\":18.5\n",
      "        \n",
      "        \n",
      "   \n"
     ]
    }
   ],
   "source": [
    "hospital.display()"
   ]
  },
  {
   "cell_type": "code",
   "execution_count": 11,
   "id": "94b4dea2",
   "metadata": {},
   "outputs": [
    {
     "name": "stdout",
     "output_type": "stream",
     "text": [
      "what country are you from,[nigeria,canada,sweden,france]nigeria\n",
      "your checking fee is $40\n"
     ]
    }
   ],
   "source": [
    "hospital.continentfee()"
   ]
  },
  {
   "cell_type": "code",
   "execution_count": 13,
   "id": "9b56180e",
   "metadata": {},
   "outputs": [
    {
     "name": "stdout",
     "output_type": "stream",
     "text": [
      "what is your current weight in kg:24\n",
      "what is your current height in meters:10.0\n",
      "severe thinness see the doctor\n"
     ]
    }
   ],
   "source": [
    "hospital.BMI()"
   ]
  },
  {
   "cell_type": "markdown",
   "id": "08033e69",
   "metadata": {},
   "source": [
    "## ERROR HANDLING"
   ]
  },
  {
   "cell_type": "code",
   "execution_count": 15,
   "id": "4af70c86",
   "metadata": {},
   "outputs": [
    {
     "name": "stdout",
     "output_type": "stream",
     "text": [
      "what is the number7\n",
      "what is the number10\n",
      "7\n",
      "10\n"
     ]
    }
   ],
   "source": [
    "try:\n",
    "    num1=int(input(\"what is the number\"))\n",
    "    num2=int(input(\"what is the number\"))\n",
    "except:\n",
    "    print(\"incorrect input, input the right value\")\n",
    "else:\n",
    "    print(num1)\n",
    "    print(num2)"
   ]
  },
  {
   "cell_type": "code",
   "execution_count": 2,
   "id": "400c557e",
   "metadata": {},
   "outputs": [
    {
     "name": "stdout",
     "output_type": "stream",
     "text": [
      "what is the number0\n",
      "what is the number0\n",
      "choose your operators[+,*,-,/]*\n",
      "0*0=0\n",
      "process complete....\n"
     ]
    }
   ],
   "source": [
    "try:\n",
    "    num1=int(input(\"what is the number\"))\n",
    "    num2=int(input(\"what is the number\"))\n",
    "    operation=input(\"choose your operators[+,*,-,/]\")\n",
    "    if operation == \"+\":\n",
    "        print(f\"{num1}+ {num2}= {num1+num2}\")\n",
    "    elif operation == \"*\":\n",
    "        print (f\"{num1}*{num2}={num1 * num2}\")\n",
    "except valueError:\n",
    "        print(\"wrong value, try entering another value\")\n",
    "except zerodivisionerror:\n",
    "        print(\"wrong input, zero can not be divided\")\n",
    "except:\n",
    "        print (\"encounter two or more errors\")\n",
    "        \n",
    "\n",
    "finally:\n",
    "    print(\"process complete....\")"
   ]
  },
  {
   "cell_type": "code",
   "execution_count": null,
   "id": "d2d924d0",
   "metadata": {},
   "outputs": [],
   "source": []
  }
 ],
 "metadata": {
  "kernelspec": {
   "display_name": "Python 3 (ipykernel)",
   "language": "python",
   "name": "python3"
  },
  "language_info": {
   "codemirror_mode": {
    "name": "ipython",
    "version": 3
   },
   "file_extension": ".py",
   "mimetype": "text/x-python",
   "name": "python",
   "nbconvert_exporter": "python",
   "pygments_lexer": "ipython3",
   "version": "3.11.5"
  }
 },
 "nbformat": 4,
 "nbformat_minor": 5
}
