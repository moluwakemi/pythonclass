{
 "cells": [
  {
   "cell_type": "code",
   "execution_count": 1,
   "id": "4c2a1dd7",
   "metadata": {},
   "outputs": [],
   "source": [
    "## CLASS Assgnment 6\n",
    "## The class should have attributes for the account holder's name, account number, and balance.\n",
    "## Implement methods for depositing and withdrawing money from the account.\n",
    "## Ensure that withdrawing money is not allowed if the withdrawal amount exceeds the account balance.\n",
    "## Implement a method to display the account details.\n",
    "\n",
    "class customer:\n",
    "    attrl1=\"blossom\"\n",
    "    attrl2=\"female\"\n",
    "    attrl3=\"1900000011\"\n",
    "    attrl4=\"500000\"\n",
    "    \n",
    "    def details(self): \n",
    "        print(f'''name:{self.attrl1}\n",
    "        gender:{self.attrl2}\n",
    "        account number:{self.attrl3}\n",
    "        account balance:{self.attrl4}''')\n",
    "        \n",
    "    def __init__(self):\n",
    "        self.balance=0\n",
    "    def deposit(self):\n",
    "        amount=float(input(\"Enter deposit amount:\"))\n",
    "        self.balance += amount\n",
    "        print(\"Transaction successfully....\")\n",
    "    def withdrawal(self):\n",
    "        amount=float(input(\"Enter withdrawal amount:\"))\n",
    "        bankname=input(\"enter bank name:\")\n",
    "        acct_number=input(\"enter account no:\")\n",
    "        if amount > self.balance or amount == 0:\n",
    "            print(\"Cannot complete transaction due to insufficient funds\")\n",
    "        else:\n",
    "            self.balance -= amount\n",
    "            print('Transaction successfully !!!')\n",
    "            \n",
    "    def accbalance(self):\n",
    "        print(f' Your available balance is {self.balance}')\n",
    "\n",
    "customer2=customer()"
   ]
  },
  {
   "cell_type": "code",
   "execution_count": 2,
   "id": "653dde06",
   "metadata": {},
   "outputs": [
    {
     "name": "stdout",
     "output_type": "stream",
     "text": [
      "name:blossom\n",
      "        gender:female\n",
      "        account number:1900000011\n",
      "        account balance:500000\n"
     ]
    }
   ],
   "source": [
    "customer2.details()"
   ]
  },
  {
   "cell_type": "code",
   "execution_count": 3,
   "id": "5cd21fdb",
   "metadata": {},
   "outputs": [
    {
     "name": "stdout",
     "output_type": "stream",
     "text": [
      "Enter deposit amount:70000\n",
      "Transaction successfully....\n"
     ]
    }
   ],
   "source": [
    "customer2.deposit()"
   ]
  },
  {
   "cell_type": "code",
   "execution_count": 9,
   "id": "0a46b3b3",
   "metadata": {},
   "outputs": [
    {
     "name": "stdout",
     "output_type": "stream",
     "text": [
      "Enter withdrawal amount:55000\n",
      "enter bank name:Zenith \n",
      "enter account no:6457837552\n",
      "Cannot complete transaction due to insufficient funds\n"
     ]
    }
   ],
   "source": [
    "customer2.withdrawal()"
   ]
  },
  {
   "cell_type": "code",
   "execution_count": 11,
   "id": "1521f4a2",
   "metadata": {},
   "outputs": [
    {
     "name": "stdout",
     "output_type": "stream",
     "text": [
      " Your available balance is 50000.0\n"
     ]
    }
   ],
   "source": [
    "customer2.accbalance()"
   ]
  },
  {
   "cell_type": "code",
   "execution_count": null,
   "id": "3ceed9b6",
   "metadata": {},
   "outputs": [],
   "source": []
  },
  {
   "cell_type": "code",
   "execution_count": 4,
   "id": "02234e41",
   "metadata": {},
   "outputs": [],
   "source": [
    "## Error Handling\n",
    "## Understanding the Code:\n",
    "## Explain the purpose of the patient record class and the information it stores for eeach patient.\n",
    "## Describe the functionality of the start, continent price and body mass index methods.\n",
    "## provide an example of creating a patient record object and calling both the body mass index and\n",
    "## continent price methods with user inputs.\n",
    "\n",
    "## ASSIGNMENT 7\n",
    "\n",
    "class patientrecord:\n",
    "    def __init__(self, name,age,gender,contactinfo, height,weight):\n",
    "        self.name=name\n",
    "        self.age=age\n",
    "        self.gender=gender\n",
    "        self.contactinfo=contactinfo\n",
    "        self.height=height\n",
    "        self.weight=weight\n",
    "    def display(self):\n",
    "        print(f\"\"\"_________PATIENT RECORD_________\n",
    "        \"Name\":{self.name}\n",
    "        \"age\":{self.age}\n",
    "        \"gender\":{self.gender}\n",
    "        \"contactinfo\":{self.contactinfo}\n",
    "        \"height\":{self.height}\n",
    "        \"weight\":{self.weight} \"\"\")\n",
    "    def continentprice (self):\n",
    "        try:\n",
    "            option=input(\"what country are you from,[africa,canada,europe,france]\")\n",
    "            if option == \"african\":\n",
    "                print(\"your checking fee is $4120\")\n",
    "            elif option == \"canada\":\n",
    "                print(\"your checking fee is $300\")\n",
    "            elif option == \"europe\":\n",
    "                print(\"your checking fee is $80\")\n",
    "            elif option == \"france\":\n",
    "                print(\"your checking fee is $130\")\n",
    "            \n",
    "        except:\n",
    "            print(\"incorrect continent\")\n",
    "    def BMI (self):\n",
    "        try:\n",
    "            weight=int(input(\"what is your current weight in kg:\"))\n",
    "            height=int(input(\"what is your current height in meters:\"))\n",
    "            bmi= weight/height**2\n",
    "            if bmi < 16:\n",
    "                print(\"severe thinness see the doctor\")\n",
    "            elif bmi >= 18.5 and bmi < 25:\n",
    "                print(\"healthy weight keep it up.\")\n",
    "            elif bmi >= 25 and bmi <= 30:\n",
    "                print(\"you are over weight see the doctor\")\n",
    "            elif bmi >= 30 and bmi <= 40:\n",
    "                print(\"you are obesse.....see your doctor as soon as possible..\")\n",
    "                \n",
    "        except:\n",
    "            print(\"invalid input, insert correct value\")\n",
    "            \n",
    "hospital=patientrecord(\"Victor\", 40, \"male\",9877664555, 1.7, 22.5,)"
   ]
  },
  {
   "cell_type": "code",
   "execution_count": 4,
   "id": "950fd4bd",
   "metadata": {},
   "outputs": [
    {
     "name": "stdout",
     "output_type": "stream",
     "text": [
      "_________PATIENT RECORD_________\n",
      "        \"Name\":Victor\n",
      "        \"age\":40\n",
      "        \"gender\":male\n",
      "        \"contactinfo\":9877664555\n",
      "        \"height\":1.7\n",
      "        \"weight\":22.5 \n"
     ]
    }
   ],
   "source": [
    "hospital.display()"
   ]
  },
  {
   "cell_type": "code",
   "execution_count": 5,
   "id": "f01ef1a3",
   "metadata": {},
   "outputs": [
    {
     "name": "stdout",
     "output_type": "stream",
     "text": [
      "what country are you from,[africa,canada,europe,france]canada\n",
      "your checking fee is $300\n"
     ]
    }
   ],
   "source": [
    "hospital.continentprice()"
   ]
  },
  {
   "cell_type": "code",
   "execution_count": 5,
   "id": "9de7c62f",
   "metadata": {},
   "outputs": [
    {
     "name": "stdout",
     "output_type": "stream",
     "text": [
      "what is your current weight in kg:hgtdrsfcfg\n",
      "invalid input, insert correct value\n"
     ]
    }
   ],
   "source": [
    "hospital.BMI()"
   ]
  },
  {
   "cell_type": "code",
   "execution_count": null,
   "id": "b6f29fc1",
   "metadata": {},
   "outputs": [],
   "source": []
  }
 ],
 "metadata": {
  "kernelspec": {
   "display_name": "Python 3 (ipykernel)",
   "language": "python",
   "name": "python3"
  },
  "language_info": {
   "codemirror_mode": {
    "name": "ipython",
    "version": 3
   },
   "file_extension": ".py",
   "mimetype": "text/x-python",
   "name": "python",
   "nbconvert_exporter": "python",
   "pygments_lexer": "ipython3",
   "version": "3.11.5"
  }
 },
 "nbformat": 4,
 "nbformat_minor": 5
}
