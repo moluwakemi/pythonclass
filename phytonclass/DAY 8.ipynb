{
 "cells": [
  {
   "cell_type": "code",
   "execution_count": 3,
   "id": "538149e0",
   "metadata": {},
   "outputs": [
    {
     "name": "stdout",
     "output_type": "stream",
     "text": [
      "enter customer purchase amount:700000\n",
      "enter customer region:south south\n",
      "________ CUSTOMER RECEIPT_________\n",
      "        \"purchase amount\": 700000.0\n",
      "        \"Discount\":105000.0\n",
      "        \"tax vat\":24500.000000000004\n",
      "        \"total amount including vat minus discount\":619500.0\n"
     ]
    }
   ],
   "source": [
    "# EXERCISE\n",
    "# USING A FUNCTION, WRITE A PROGRAM TO CALCULATE THE COST OF A CUSTOMER'S PURCHASE,\n",
    "## INCLUDING DISCOUNTS AND SALES TAX?\n",
    "# IF THE CUSTOMER PURCHASE IS ABOVE 500000 YOU GIVE DISCOUNT\n",
    "# SOUTH SOUTH 15%\n",
    "# SOUTH EAST 10%\n",
    "# SOUTH WEST 8%\n",
    "# NORTH EAST 12%\n",
    "# NORTH WEST 11%\n",
    "# NORTH CENTRAL 6%\n",
    "# THE VAST IS SLATED AT 3.5% (all the % are didvided by 100)\n",
    "def boardstore():\n",
    "    purchaseamount=float(input(\"enter customer purchase amount:\"))\n",
    "    region=input(\"enter customer region:\")\n",
    "    if purchaseamount >= 500000 and region == \"south south\":\n",
    "        print(f\"\"\"________ CUSTOMER RECEIPT_________\n",
    "        \"purchase amount\": {purchaseamount}\n",
    "        \"Discount\":{purchaseamount * 0.15}\n",
    "        \"tax vat\":{purchaseamount * 0.035}\n",
    "        \"total amount including vat minus discount\":{purchaseamount + (purchaseamount * 0.035)-(purchaseamount * 0.15)}\"\"\")\n",
    "    \n",
    "    elif purchaseamount >= 500000 and region == \"south East\":\n",
    "        print(f\"\"\"________ CUSTOMER RECEIPT_________\n",
    "        \"purchase amount\": {purchaseamount}\n",
    "        \"Discount\":{purchaseamount * 0.10}\n",
    "        \"tax vat\":{purchaseamount * 0.035}\n",
    "        \"total amount including vat minus discount\":{purchaseamount + (purchaseamount * 0.035)-(purchaseamount * 0.10)}\"\"\")\n",
    "    elif purchaseamount >= 500000 and region == \"south west\":\n",
    "        print(f\"\"\"________ CUSTOMER RECEIPT_________\n",
    "        \"purchase amount\": {purchaseamount}\n",
    "        \"Discount\":{purchaseamount * 0.08}\n",
    "        \"tax vat\":{purchaseamount * 0.035}\n",
    "        \"total amount including vat minus discount\":{purchaseamount + (purchaseamount * 0.035)-(purchaseamount * 0.08)}\"\"\")\n",
    "    \n",
    "    elif purchaseamount >= 500000 and region == \"north easth\":\n",
    "        print(f\"\"\"________ CUSTOMER RECEIPT_________\n",
    "        \"purchase amount\": {purchaseamount}\n",
    "        \"Discount\":{purchaseamount * 0.12}\n",
    "        \"tax vat\":{purchaseamount * 0.035}\n",
    "        \"total amount including vat minus discount\":{purchaseamount + (purchaseamount * 0.035)-(purchaseamount * 0.12)}\"\"\")\n",
    "    elif purchaseamount >= 500000 and region == \"North west\":\n",
    "        print(f\"\"\"________ CUSTOMER RECEIPT_________\n",
    "        \"purchase amount\": {purchaseamount}\n",
    "        \"Discount\":{purchaseamount * 0.11}\n",
    "        \"tax vat\":{purchaseamount * 0.035}\n",
    "        \"total amount including vat minus discount\":{purchaseamount + (purchaseamount * 0.035)-(purchaseamount * 0.11)}\"\"\")\n",
    "    \n",
    "    elif purchaseamount >= 500000 and region == \"North central\":\n",
    "        print(f\"\"\"________ CUSTOMER RECEIPT_________\n",
    "        \"purchase amount\": {purchaseamount}\n",
    "        \"Discount\":{purchaseamount * 0.06}\n",
    "        \"tax vat\":{purchaseamount * 0.035}\n",
    "        \"total amount including vat minus discount\":{purchaseamount + (purchaseamount * 0.035)-(purchaseamount * 0.06)}\"\"\")\n",
    "    else:\n",
    "        \n",
    "        print(f\"\"\"____________CUSTOMER RECEIPT____________\n",
    "        \"purchase amount\": {purchaseamount}\n",
    "        \"tax vat\":{purchase * 0.35}\n",
    "        \"total amount including vat minus discount\":{purchaseamount + (purchaseamount * 0.35)}\n",
    "        \"sorry you are not eligible for a discount!!!\"\n",
    "        \"\"\")\n",
    "    \n",
    "boardstore()"
   ]
  },
  {
   "cell_type": "code",
   "execution_count": null,
   "id": "5d76c8e2",
   "metadata": {},
   "outputs": [],
   "source": []
  },
  {
   "cell_type": "markdown",
   "id": "c5698c42",
   "metadata": {},
   "source": [
    "## LAMBDA (is a function that has function itself)"
   ]
  },
  {
   "cell_type": "code",
   "execution_count": 4,
   "id": "d7d8da75",
   "metadata": {},
   "outputs": [
    {
     "data": {
      "text/plain": [
       "7"
      ]
     },
     "execution_count": 4,
     "metadata": {},
     "output_type": "execute_result"
    }
   ],
   "source": [
    "## lambda\n",
    "def add (x,y):\n",
    "    return x + y\n",
    "add(4,3)"
   ]
  },
  {
   "cell_type": "code",
   "execution_count": 5,
   "id": "5cb63694",
   "metadata": {},
   "outputs": [
    {
     "data": {
      "text/plain": [
       "7"
      ]
     },
     "execution_count": 5,
     "metadata": {},
     "output_type": "execute_result"
    }
   ],
   "source": [
    "(lambda x,y: x+y)(4,3)"
   ]
  },
  {
   "cell_type": "code",
   "execution_count": 6,
   "id": "0576cd20",
   "metadata": {},
   "outputs": [
    {
     "data": {
      "text/plain": [
       "54"
      ]
     },
     "execution_count": 6,
     "metadata": {},
     "output_type": "execute_result"
    }
   ],
   "source": [
    "(lambda x,y,z: x+y*z)(4,5,10)"
   ]
  },
  {
   "cell_type": "raw",
   "id": "b7cc7a50",
   "metadata": {},
   "source": [
    "(lambda x,y,w,z: x+y+w*z)(4,5,8,10)"
   ]
  },
  {
   "cell_type": "code",
   "execution_count": 10,
   "id": "149c4903",
   "metadata": {},
   "outputs": [
    {
     "name": "stdout",
     "output_type": "stream",
     "text": [
      "enter your password:Khdhdhdh\n"
     ]
    },
    {
     "data": {
      "text/plain": [
       "' Khdhdhdh is correct'"
      ]
     },
     "execution_count": 10,
     "metadata": {},
     "output_type": "execute_result"
    }
   ],
   "source": [
    "## write a lambda function giving a user password to lambda passwordstart with an upper case and len of 8 of password.\n",
    "(lambda password:f\" {password} is correct\" if password[0]==password[0].upper()and len (password) >= 8 else \"incorrect password requirement\")(input(\"enter your password:\"))"
   ]
  },
  {
   "cell_type": "code",
   "execution_count": 11,
   "id": "479a76c8",
   "metadata": {},
   "outputs": [
    {
     "name": "stdout",
     "output_type": "stream",
     "text": [
      "[1, 5]\n"
     ]
    }
   ],
   "source": [
    "## filter function\n",
    "num2= [1,2,5,8,10]\n",
    "nlist=list(filter(lambda x: x % 2 != 0, num2))\n",
    "print(nlist)"
   ]
  },
  {
   "cell_type": "code",
   "execution_count": 12,
   "id": "dcc8bab4",
   "metadata": {},
   "outputs": [
    {
     "name": "stdout",
     "output_type": "stream",
     "text": [
      "[2, 8, 10]\n"
     ]
    }
   ],
   "source": [
    "num2= [1,2,5,8,10]\n",
    "nlist=list(filter(lambda x: x % 2 == 0, num2))\n",
    "print(nlist)"
   ]
  },
  {
   "cell_type": "code",
   "execution_count": 13,
   "id": "664dc9df",
   "metadata": {},
   "outputs": [
    {
     "name": "stdout",
     "output_type": "stream",
     "text": [
      "what is your number:16\n"
     ]
    },
    {
     "data": {
      "text/plain": [
       "'16 is even'"
      ]
     },
     "execution_count": 13,
     "metadata": {},
     "output_type": "execute_result"
    }
   ],
   "source": [
    "## WRITE A LAMBDA IF A USER INPUT IS EVEN OR ODD.\n",
    "(lambda usernumber: f\"{usernumber} is even\"if usernumber %2 == 0 else f\"{usernumber} is odd\") (int(input(\"what is your number:\")))"
   ]
  },
  {
   "cell_type": "code",
   "execution_count": null,
   "id": "407ddf0b",
   "metadata": {},
   "outputs": [],
   "source": [
    "## map, filter,lambda function\n",
    "numbers=[1,3,4,100,24,25]\n",
    "squared_roots=list(map(lambda x: x**2, numbers))\n",
    "print(squared_roots)"
   ]
  },
  {
   "cell_type": "code",
   "execution_count": null,
   "id": "49852d2e",
   "metadata": {},
   "outputs": [],
   "source": [
    "# 1.Write a lambda function that squares a given number.\n",
    "# 2.Filter a list of strings to include only those that have more than 5 characters.\n",
    "# 3.Given a list of temperatures in Celsius, use map to convert them to Fahrenheit using the formula: F-9/5c+32."
   ]
  },
  {
   "cell_type": "code",
   "execution_count": 3,
   "id": "ffbf7599",
   "metadata": {},
   "outputs": [
    {
     "name": "stdout",
     "output_type": "stream",
     "text": [
      "what is your number40\n"
     ]
    },
    {
     "data": {
      "text/plain": [
       "'40 is square'"
      ]
     },
     "execution_count": 3,
     "metadata": {},
     "output_type": "execute_result"
    }
   ],
   "source": [
    "(lambda usernumber: f\"{usernumber} is square\" if usernumber %2 == 0 else f\"{usernumber} is square\")(int(input(\"what is your number\")))"
   ]
  },
  {
   "cell_type": "code",
   "execution_count": 5,
   "id": "7665159b",
   "metadata": {},
   "outputs": [
    {
     "name": "stdout",
     "output_type": "stream",
     "text": [
      "[1, 16, 64, 2500, 625, 40000]\n"
     ]
    }
   ],
   "source": [
    "# LAMBDA\n",
    "numbers=[1,4,8,50,25,200]\n",
    "squared_roots=list(map(lambda x: x**2, numbers))\n",
    "print(squared_roots)"
   ]
  },
  {
   "cell_type": "code",
   "execution_count": null,
   "id": "44fa2d0b",
   "metadata": {},
   "outputs": [],
   "source": [
    "## filter function\n",
    "num2= [1,2,5,8,10]\n",
    "nlist=list(filter(lambda x: x % 2 != 0, num2))\n",
    "print(nlist)"
   ]
  },
  {
   "cell_type": "code",
   "execution_count": null,
   "id": "6aa99472",
   "metadata": {},
   "outputs": [],
   "source": [
    "\n",
    "    "
   ]
  }
 ],
 "metadata": {
  "kernelspec": {
   "display_name": "Python 3 (ipykernel)",
   "language": "python",
   "name": "python3"
  },
  "language_info": {
   "codemirror_mode": {
    "name": "ipython",
    "version": 3
   },
   "file_extension": ".py",
   "mimetype": "text/x-python",
   "name": "python",
   "nbconvert_exporter": "python",
   "pygments_lexer": "ipython3",
   "version": "3.11.5"
  }
 },
 "nbformat": 4,
 "nbformat_minor": 5
}
