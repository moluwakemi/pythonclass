{
 "cells": [
  {
   "cell_type": "markdown",
   "id": "d773aa3e",
   "metadata": {},
   "source": [
    "## CLASS"
   ]
  },
  {
   "cell_type": "code",
   "execution_count": null,
   "id": "34202214",
   "metadata": {},
   "outputs": [],
   "source": [
    "## CLASS (OOP)\n",
    "## object oriented programming enables the programmer to create their own objects with class methods and attributes.\n",
    "## In this way,the programmer can call methods on objects.\n",
    "## Attributes are characteristics that can be called on an object."
   ]
  },
  {
   "cell_type": "code",
   "execution_count": 1,
   "id": "4842aa3a",
   "metadata": {},
   "outputs": [],
   "source": [
    "class person:\n",
    "    attrl1=\"sam\"\n",
    "    attrl2=\"dark\"\n",
    "    attrl3=\"height\"\n",
    "person1=person()"
   ]
  },
  {
   "cell_type": "code",
   "execution_count": 3,
   "id": "0c159afa",
   "metadata": {},
   "outputs": [
    {
     "data": {
      "text/plain": [
       "'sam'"
      ]
     },
     "execution_count": 3,
     "metadata": {},
     "output_type": "execute_result"
    }
   ],
   "source": [
    "person1.attrl1"
   ]
  },
  {
   "cell_type": "code",
   "execution_count": 4,
   "id": "5740cb59",
   "metadata": {},
   "outputs": [
    {
     "data": {
      "text/plain": [
       "'dark'"
      ]
     },
     "execution_count": 4,
     "metadata": {},
     "output_type": "execute_result"
    }
   ],
   "source": [
    "person1.attrl2"
   ]
  },
  {
   "cell_type": "code",
   "execution_count": 5,
   "id": "25a9308a",
   "metadata": {},
   "outputs": [
    {
     "data": {
      "text/plain": [
       "'height'"
      ]
     },
     "execution_count": 5,
     "metadata": {},
     "output_type": "execute_result"
    }
   ],
   "source": [
    "person1.attrl3"
   ]
  },
  {
   "cell_type": "markdown",
   "id": "88073055",
   "metadata": {},
   "source": [
    "## ADDING FUNCTION TO CLASS (METHOD)"
   ]
  },
  {
   "cell_type": "code",
   "execution_count": 7,
   "id": "7d62eeac",
   "metadata": {},
   "outputs": [],
   "source": [
    "class person:\n",
    "    attrl1=\"sam\"\n",
    "    attrl2=\"fair\"\n",
    "    \n",
    "    def details(self):\n",
    "        print(f'''name:{self.attrl1}\n",
    "        complexion:{self.attrl2}''')\n",
    "person2=person()"
   ]
  },
  {
   "cell_type": "code",
   "execution_count": 8,
   "id": "edb22aa9",
   "metadata": {},
   "outputs": [
    {
     "name": "stdout",
     "output_type": "stream",
     "text": [
      "name:sam\n",
      "        complexion:fair\n"
     ]
    }
   ],
   "source": [
    "person2.details()"
   ]
  },
  {
   "cell_type": "code",
   "execution_count": 10,
   "id": "f11ed7c1",
   "metadata": {},
   "outputs": [],
   "source": [
    "class person:\n",
    "    attrl1=\"sam\"\n",
    "    attrl2=\"fair\"\n",
    "    \n",
    "    def details(self): \n",
    "        print(f'''name:{self.attrl1}\n",
    "        complexion:{self.attrl2}''')\n",
    "        \n",
    "    def action(self):\n",
    "        print(f'''my name is {self.attrl1} and i am {self.attrl2}''')\n",
    "        \n",
    "person2=person()"
   ]
  },
  {
   "cell_type": "code",
   "execution_count": 11,
   "id": "ced37fd3",
   "metadata": {},
   "outputs": [
    {
     "name": "stdout",
     "output_type": "stream",
     "text": [
      "my name is sam and i am fair\n"
     ]
    }
   ],
   "source": [
    "person2.action()"
   ]
  },
  {
   "cell_type": "code",
   "execution_count": 12,
   "id": "77675565",
   "metadata": {},
   "outputs": [
    {
     "name": "stdout",
     "output_type": "stream",
     "text": [
      "[1, 9, 16, 10000, 576, 625]\n"
     ]
    }
   ],
   "source": [
    "## map, filter,lambda function\n",
    "numbers=[1,3,4,100,24,25]\n",
    "squared_roots=list(map(lambda x: x**2, numbers))\n",
    "print(squared_roots)"
   ]
  },
  {
   "cell_type": "code",
   "execution_count": 13,
   "id": "61973c12",
   "metadata": {},
   "outputs": [],
   "source": [
    "class monieapp:\n",
    "    def __init__(self):\n",
    "        self.balance=0\n",
    "    def deposit(self):\n",
    "        amount=float(input(\"Enter deposit amount:\"))\n",
    "        self.balance += amount\n",
    "        print(\"Transaction successfully....\")\n",
    "    def transfer(self):\n",
    "        amount=float(input(\"Enter transfer amount:\"))\n",
    "        bankname=input(\"enter bank name:\")\n",
    "        acct_number=input(\"enter account no:\")\n",
    "        if amount > self.balance or amount == 0:\n",
    "            print(\"Cannot complete transaction due to zero or insufficient funds\")\n",
    "        else:\n",
    "            self.balance -= amount\n",
    "            print('Transaction successfully completed!!!')\n",
    "            \n",
    "    def airtime(self):\n",
    "        amount=float(input(\"Enter deposit amount:\"))\n",
    "        self.balance += amount\n",
    "        print(\"recharge successfully....\")\n",
    "    def airtime(self):\n",
    "        amount=float(input(\"Enter transfer amount:\"))\n",
    "        bankname=input(\"enter provider name:\")\n",
    "        acct_number=input(\"enter account no:\")\n",
    "        if amount > self.balance or amount == 0:\n",
    "            print(\"Cannot complete transaction due to zero or insufficient funds\")\n",
    "        else:\n",
    "            self.balance -= amount\n",
    "            print('Airtime transfer successfully completed!!!')\n",
    "            \n",
    "    def data(self):\n",
    "        amount=float(input(\"Enter deposit amount:\"))\n",
    "        self.balance += amount\n",
    "        print(\"Data transfer successfully....\")\n",
    "    def data(self):\n",
    "        amount=float(input(\"Enter transfer amount:\"))\n",
    "        bankname=input(\"enter provider name:\")\n",
    "        acct_number=input(\"enter account no:\")\n",
    "        if amount > self.balance or amount == 0:\n",
    "            print(\"Cannot complete transaction due to zero or insufficient funds\")\n",
    "        else:\n",
    "            self.balance -= amount\n",
    "            print('Data transfer successfully completed!!!')\n",
    "            \n",
    "bankapp=monieapp()\n",
    "    "
   ]
  },
  {
   "cell_type": "code",
   "execution_count": 14,
   "id": "744a90fb",
   "metadata": {},
   "outputs": [
    {
     "name": "stdout",
     "output_type": "stream",
     "text": [
      "Enter transfer amount:100000000\n",
      "enter bank name:Zenith\n",
      "enter account no:8474957373\n",
      "Cannot complete transaction due to zero or insufficient funds\n"
     ]
    }
   ],
   "source": [
    "bankapp.transfer()"
   ]
  },
  {
   "cell_type": "code",
   "execution_count": 15,
   "id": "a03bd0bc",
   "metadata": {},
   "outputs": [
    {
     "name": "stdout",
     "output_type": "stream",
     "text": [
      "Enter transfer amount:200000\n",
      "enter provider name:MTN\n",
      "enter account no:08038002935\n",
      "Cannot complete transaction due to zero or insufficient funds\n"
     ]
    }
   ],
   "source": [
    "bankapp.airtime()"
   ]
  },
  {
   "cell_type": "code",
   "execution_count": 16,
   "id": "a2fc9f94",
   "metadata": {},
   "outputs": [
    {
     "name": "stdout",
     "output_type": "stream",
     "text": [
      "Enter transfer amount:10000\n",
      "enter provider name:MTN\n",
      "enter account no:08038002935\n",
      "Cannot complete transaction due to zero or insufficient funds\n"
     ]
    }
   ],
   "source": [
    "bankapp.data()"
   ]
  },
  {
   "cell_type": "code",
   "execution_count": 17,
   "id": "0a05159c",
   "metadata": {},
   "outputs": [],
   "source": [
    "class monieapp:\n",
    "    def __init__(self):\n",
    "        self.balance=0\n",
    "    def deposit(self):\n",
    "        amount=float(input(\"Enter deposit amount:\"))\n",
    "        self.balance += amount\n",
    "        print(\"Transaction successfully....\")\n",
    "    def transfer(self):\n",
    "        amount=float(input(\"Enter transfer amount:\"))\n",
    "        bankname=input(\"enter bank name:\")\n",
    "        acct_number=input(\"enter account no:\")\n",
    "        if amount > self.balance or amount == 0:\n",
    "            print(\"Cannot complete transaction due to zero or insufficient funds\")\n",
    "        else:\n",
    "            self.balance -= amount\n",
    "            print('Transaction successfully completed!!!')\n",
    "            \n",
    "    def airtime(self):\n",
    "        amount=float(input(\"Enter deposit amount:\"))\n",
    "        self.balance += amount\n",
    "        print(\"recharge successfully....\")\n",
    "    def airtime(self):\n",
    "        amount=float(input(\"Enter transfer amount:\"))\n",
    "        bankname=input(\"enter provider name:\")\n",
    "        acct_number=input(\"enter account no:\")\n",
    "        if amount > self.balance or amount == 0:\n",
    "            print(\"Cannot complete transaction due to zero or insufficient funds\")\n",
    "        else:\n",
    "            self.balance -= amount\n",
    "            print('Airtime transfer successfully completed!!!')\n",
    "            \n",
    "    def data(self):\n",
    "        amount=float(input(\"Enter deposit amount:\"))\n",
    "        self.balance += amount\n",
    "        print(\"Data transfer successfully....\")\n",
    "    def data(self):\n",
    "        amount=float(input(\"Enter transfer amount:\"))\n",
    "        bankname=input(\"enter provider name:\")\n",
    "        acct_number=input(\"enter account no:\")\n",
    "        if amount > self.balance or amount == 0:\n",
    "            print(\"Cannot complete transaction due to zero or insufficient funds\")\n",
    "        else:\n",
    "            self.balance -= amount\n",
    "            print('Data transfer successfully completed!!!')\n",
    "            \n",
    "    def checkbalance(self):\n",
    "        print(f' Your available balance is {self.balance}')\n",
    "            \n",
    "bankapp=monieapp()\n",
    "    "
   ]
  },
  {
   "cell_type": "code",
   "execution_count": 20,
   "id": "7fd8e595",
   "metadata": {},
   "outputs": [
    {
     "name": "stdout",
     "output_type": "stream",
     "text": [
      "Enter deposit amount:100000\n",
      "Transaction successfully....\n"
     ]
    }
   ],
   "source": [
    "bankapp.deposit()"
   ]
  },
  {
   "cell_type": "code",
   "execution_count": 21,
   "id": "51e30ca0",
   "metadata": {},
   "outputs": [
    {
     "name": "stdout",
     "output_type": "stream",
     "text": [
      "Enter transfer amount:50000\n",
      "enter bank name:Zenith\n",
      "enter account no:8493827364\n",
      "Transaction successfully completed!!!\n"
     ]
    }
   ],
   "source": [
    "bankapp.transfer()"
   ]
  },
  {
   "cell_type": "code",
   "execution_count": 22,
   "id": "ebabeeb0",
   "metadata": {},
   "outputs": [
    {
     "name": "stdout",
     "output_type": "stream",
     "text": [
      "Enter transfer amount:5000\n",
      "enter provider name:MTN\n",
      "enter account no:08038002935\n",
      "Airtime transfer successfully completed!!!\n"
     ]
    }
   ],
   "source": [
    "bankapp.airtime()"
   ]
  },
  {
   "cell_type": "code",
   "execution_count": 23,
   "id": "3b310f00",
   "metadata": {},
   "outputs": [
    {
     "name": "stdout",
     "output_type": "stream",
     "text": [
      "Enter transfer amount:10000\n",
      "enter provider name:MTN\n",
      "enter account no:08038002935\n",
      "Data transfer successfully completed!!!\n"
     ]
    }
   ],
   "source": [
    "bankapp.data()"
   ]
  },
  {
   "cell_type": "code",
   "execution_count": null,
   "id": "d57a43a0",
   "metadata": {},
   "outputs": [],
   "source": []
  }
 ],
 "metadata": {
  "kernelspec": {
   "display_name": "Python 3 (ipykernel)",
   "language": "python",
   "name": "python3"
  },
  "language_info": {
   "codemirror_mode": {
    "name": "ipython",
    "version": 3
   },
   "file_extension": ".py",
   "mimetype": "text/x-python",
   "name": "python",
   "nbconvert_exporter": "python",
   "pygments_lexer": "ipython3",
   "version": "3.11.5"
  }
 },
 "nbformat": 4,
 "nbformat_minor": 5
}
