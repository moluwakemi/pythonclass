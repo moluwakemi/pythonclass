{
 "cells": [
  {
   "cell_type": "code",
   "execution_count": 1,
   "id": "ffa9b355",
   "metadata": {},
   "outputs": [
    {
     "name": "stdout",
     "output_type": "stream",
     "text": [
      "1\n",
      "2\n",
      "3\n",
      "4\n",
      "5\n",
      "6\n",
      "7\n",
      "8\n",
      "9\n",
      "10\n",
      "11\n",
      "12\n",
      "13\n",
      "14\n",
      "15\n",
      "16\n",
      "17\n",
      "18\n",
      "19\n",
      "20\n",
      "21\n",
      "22\n",
      "23\n",
      "24\n",
      "25\n",
      "26\n",
      "27\n",
      "28\n",
      "29\n",
      "30\n"
     ]
    }
   ],
   "source": [
    "## RANGES USING FOR LOOP\n",
    "for h in range (1,31):\n",
    "    print (h)"
   ]
  },
  {
   "cell_type": "code",
   "execution_count": 2,
   "id": "73bc6baa",
   "metadata": {},
   "outputs": [
    {
     "name": "stdout",
     "output_type": "stream",
     "text": [
      "Draw\n",
      "player one score is: 4\n",
      "player two score is: 4\n",
      "player one wins\n",
      "player one score is: 3\n",
      "player two score is: 8\n",
      "player one wins\n",
      "player one score is: 8\n",
      "player two score is: 5\n",
      "player one wins\n",
      "player one score is: 6\n",
      "player two score is: 3\n",
      "player one wins\n",
      "player one score is: 9\n",
      "player two score is: 5\n",
      "player one wins\n",
      "player one score is: 7\n",
      "player two score is: 11\n",
      "player one wins\n",
      "player one score is: 5\n",
      "player two score is: 4\n",
      "Draw\n",
      "player one score is: 10\n",
      "player two score is: 10\n",
      "player one wins\n",
      "player one score is: 10\n",
      "player two score is: 7\n",
      "player one wins\n",
      "player one score is: 7\n",
      "player two score is: 3\n",
      "PLAYER ONE IS THE OVERALL WINNER BY 32point\n"
     ]
    }
   ],
   "source": [
    "# Dice random selection using for loops and range.\n",
    "score1= 0\n",
    "score2= 0\n",
    "import random\n",
    "for i in range(1,11):\n",
    "    dice1=(random.randint(1,6) + random.randint(1,6))\n",
    "    dice2=(random.randint(1,6) + random.randint(1,6))\n",
    "    \n",
    "    if dice1 > dice2:\n",
    "        score1 += 5\n",
    "        print('player one wins')\n",
    "        print(f\"player one score is: {dice1}\")\n",
    "        print(f\"player two score is: {dice2}\")\n",
    "        \n",
    "    elif dice2 > dice1:\n",
    "        score2 += 5\n",
    "        print('player one wins')\n",
    "        print(f\"player one score is: {dice1}\")\n",
    "        print(f\"player two score is: {dice2}\")\n",
    "        \n",
    "    elif dice1 == dice2:\n",
    "        score2 += 1\n",
    "        score1 += 1\n",
    "        print('Draw')\n",
    "        print(f\"player one score is: {dice2}\")\n",
    "        print(f\"player two score is: {dice1}\")\n",
    "        \n",
    "if score1 > score2:\n",
    "    print(f\"PLAYER ONE IS THE OVERALL WINNER BY {score1}point\")\n",
    "elif score2 > score1:\n",
    "    print(f\"PLAYER TWO IS THE OVERALL WINNER BY {score2}point\")\n",
    "elif score2 == score1:\n",
    "    print(f\"DRAW PLAYER ONE SCORE IS: {score2},PLAYER TWO SCORE IS {score2} point\")"
   ]
  },
  {
   "cell_type": "code",
   "execution_count": null,
   "id": "c2a977b8",
   "metadata": {},
   "outputs": [],
   "source": []
  },
  {
   "cell_type": "markdown",
   "id": "40a915dc",
   "metadata": {},
   "source": [
    "# FUNCTIONS\n"
   ]
  },
  {
   "cell_type": "code",
   "execution_count": 3,
   "id": "ea6201e4",
   "metadata": {},
   "outputs": [
    {
     "name": "stdout",
     "output_type": "stream",
     "text": [
      "welcome to python class\n"
     ]
    }
   ],
   "source": [
    "def greet ():\n",
    "    print (\"welcome to python class\")\n",
    "greet()"
   ]
  },
  {
   "cell_type": "code",
   "execution_count": 4,
   "id": "edd13c90",
   "metadata": {},
   "outputs": [
    {
     "name": "stdout",
     "output_type": "stream",
     "text": [
      "welcome to python classMr Hamza\n"
     ]
    }
   ],
   "source": [
    "def greet2 (name):\n",
    "    print(f'welcome to python class{name}')\n",
    "greet2(\"Mr Hamza\")"
   ]
  },
  {
   "cell_type": "code",
   "execution_count": 5,
   "id": "c5141770",
   "metadata": {},
   "outputs": [
    {
     "name": "stdout",
     "output_type": "stream",
     "text": [
      "________ CITIZEN DETAILS________\n",
      "    \"Name\": James\n",
      "    \"Gender\": male\n",
      "    \"Age\": 17\n",
      "    \n",
      "You are eligible to vote primary section\n"
     ]
    }
   ],
   "source": [
    "def vote (name, age, gender):\n",
    "    print(f\"\"\"________ CITIZEN DETAILS________\n",
    "    \"Name\": {name}\n",
    "    \"Gender\": {gender}\n",
    "    \"Age\": {age}\n",
    "    \"\"\")\n",
    "    if age > 18:\n",
    "        print(\"You are eligible to vote\")\n",
    "    elif age > 16:\n",
    "        print ('You are eligible to vote primary section')\n",
    "    else:\n",
    "        print(\"You are not eligible to vote in any section....\")\n",
    "vote(\"James\", 17, \"male\")"
   ]
  },
  {
   "cell_type": "code",
   "execution_count": 6,
   "id": "6639a2d4",
   "metadata": {},
   "outputs": [
    {
     "name": "stdout",
     "output_type": "stream",
     "text": [
      "________ CITIZEN DETAILS________\n",
      "    \"Name\": James\n",
      "    \"Gender\": male\n",
      "    \"Age\": 21\n",
      "    \n",
      "You are eligible to vote\n"
     ]
    }
   ],
   "source": [
    "def vote (name, gender, age=18,):## default parameters\n",
    "    print(f\"\"\"________ CITIZEN DETAILS________\n",
    "    \"Name\": {name}\n",
    "    \"Gender\": {gender}\n",
    "    \"Age\": {age}\n",
    "    \"\"\")\n",
    "    if age > 18:\n",
    "        print(\"You are eligible to vote\")\n",
    "    else:\n",
    "        print(\"You are not eligible to vote in any section....\")\n",
    "vote(\"James\", \"male\", 21)"
   ]
  },
  {
   "cell_type": "code",
   "execution_count": null,
   "id": "42d52dae",
   "metadata": {},
   "outputs": [],
   "source": [
    "## EXERCISE\n",
    "## write a python program that takes input from a student for scores in 8 subjects\n",
    "## (math, physics, geography, c.r.k, biology, agric, health edu, and f.math)\n",
    "## and calculates their average score. The program should then determine and print\n",
    "## the corresponding grade based on the average score."
   ]
  }
 ],
 "metadata": {
  "kernelspec": {
   "display_name": "Python 3 (ipykernel)",
   "language": "python",
   "name": "python3"
  },
  "language_info": {
   "codemirror_mode": {
    "name": "ipython",
    "version": 3
   },
   "file_extension": ".py",
   "mimetype": "text/x-python",
   "name": "python",
   "nbconvert_exporter": "python",
   "pygments_lexer": "ipython3",
   "version": "3.11.5"
  }
 },
 "nbformat": 4,
 "nbformat_minor": 5
}
